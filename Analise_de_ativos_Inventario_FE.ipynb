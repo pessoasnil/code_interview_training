{
  "nbformat": 4,
  "nbformat_minor": 0,
  "metadata": {
    "colab": {
      "provenance": [],
      "include_colab_link": true
    },
    "kernelspec": {
      "name": "python3",
      "display_name": "Python 3"
    },
    "language_info": {
      "name": "python"
    }
  },
  "cells": [
    {
      "cell_type": "markdown",
      "metadata": {
        "id": "view-in-github",
        "colab_type": "text"
      },
      "source": [
        "<a href=\"https://colab.research.google.com/github/pessoasnil/code_interview_training/blob/master/Analise_de_ativos_Inventario_FE.ipynb\" target=\"_parent\"><img src=\"https://colab.research.google.com/assets/colab-badge.svg\" alt=\"Open In Colab\"/></a>"
      ]
    },
    {
      "cell_type": "markdown",
      "source": [
        "# ESTUDOS:\n",
        "## Análise do inventário de ativos de informática Fundação Esperança\n",
        "\n",
        "---\n",
        "\n"
      ],
      "metadata": {
        "id": "8KNrWggjbT-s"
      }
    },
    {
      "cell_type": "markdown",
      "source": [
        "# **BASE MANTIDA 01**"
      ],
      "metadata": {
        "id": "Vg8U_CHqw7Nr"
      }
    },
    {
      "cell_type": "code",
      "source": [
        "dadosatv = pd.read_excel('/content/drive/MyDrive/INVENTÁRIO .xlsx')\n",
        "print(f\"linhas:{dadosatv.shape[0]}\")\n",
        "print(f\"colunas:{dadosatv.shape[1]}\")"
      ],
      "metadata": {
        "colab": {
          "base_uri": "https://localhost:8080/"
        },
        "id": "5f1qU3-qxyDc",
        "outputId": "db4a7698-9eff-4ec5-dea3-c91cb163a062"
      },
      "execution_count": null,
      "outputs": [
        {
          "output_type": "stream",
          "name": "stdout",
          "text": [
            "linhas:37\n",
            "colunas:12\n"
          ]
        }
      ]
    },
    {
      "cell_type": "code",
      "execution_count": null,
      "metadata": {
        "id": "aP1Ch5WXbF36"
      },
      "outputs": [],
      "source": [
        "import pandas as pd #analisar e modelar os dados para Python\n",
        "import matplotlib.pyplot as plt # criação de gráficos, histogramas, etc.\n",
        "import numpy as np #operações com matrizes n-dimensionais "
      ]
    },
    {
      "cell_type": "code",
      "source": [
        "# 1 - Montar o Drive, 2 - Copiar o caminho do arquivo, 3 - Criar o dataframe\n",
        "#from IPython.utils import encoding\n",
        "dadosatv = pd.read_excel('/content/drive/MyDrive/INVENTÁRIO .xlsx', usecols = [2,3,4,5,6,11]) \n",
        "dadosatv.head()"
      ],
      "metadata": {
        "colab": {
          "base_uri": "https://localhost:8080/",
          "height": 215
        },
        "id": "c7MeYIaD1M7I",
        "outputId": "a0db2137-c814-4606-ce13-38002d1d8539"
      },
      "execution_count": null,
      "outputs": [
        {
          "output_type": "execute_result",
          "data": {
            "text/plain": [
              "   ID SETOR                  SETOR           TIPO       MODELO     SITUAÇÃO  \\\n",
              "0       1.0  Secretaria Acadêmica   Computador PC     Genérico   Manutenção   \n",
              "1       1.0  Secretaria Acadêmica   Computador PC     Genérico  Operacional   \n",
              "2       1.0  Secretaria Acadêmica   Computador PC  Dell Vostro  Operacional   \n",
              "3       1.0  Secretaria Acadêmica   Computador PC  Dell Vostro  Operacional   \n",
              "4       1.0  Secretaria Acadêmica   Computador PC     Genérico  Operacional   \n",
              "\n",
              "  CENTRO DE CUSTO  \n",
              "0     CEPES - 003  \n",
              "1     CEPES - 003  \n",
              "2     CEPES - 003  \n",
              "3     CEPES - 003  \n",
              "4     CEPES - 003  "
            ],
            "text/html": [
              "\n",
              "  <div id=\"df-32827e07-9a84-4cca-bbca-32300cc2393c\">\n",
              "    <div class=\"colab-df-container\">\n",
              "      <div>\n",
              "<style scoped>\n",
              "    .dataframe tbody tr th:only-of-type {\n",
              "        vertical-align: middle;\n",
              "    }\n",
              "\n",
              "    .dataframe tbody tr th {\n",
              "        vertical-align: top;\n",
              "    }\n",
              "\n",
              "    .dataframe thead th {\n",
              "        text-align: right;\n",
              "    }\n",
              "</style>\n",
              "<table border=\"1\" class=\"dataframe\">\n",
              "  <thead>\n",
              "    <tr style=\"text-align: right;\">\n",
              "      <th></th>\n",
              "      <th>ID SETOR</th>\n",
              "      <th>SETOR</th>\n",
              "      <th>TIPO</th>\n",
              "      <th>MODELO</th>\n",
              "      <th>SITUAÇÃO</th>\n",
              "      <th>CENTRO DE CUSTO</th>\n",
              "    </tr>\n",
              "  </thead>\n",
              "  <tbody>\n",
              "    <tr>\n",
              "      <th>0</th>\n",
              "      <td>1.0</td>\n",
              "      <td>Secretaria Acadêmica</td>\n",
              "      <td>Computador PC</td>\n",
              "      <td>Genérico</td>\n",
              "      <td>Manutenção</td>\n",
              "      <td>CEPES - 003</td>\n",
              "    </tr>\n",
              "    <tr>\n",
              "      <th>1</th>\n",
              "      <td>1.0</td>\n",
              "      <td>Secretaria Acadêmica</td>\n",
              "      <td>Computador PC</td>\n",
              "      <td>Genérico</td>\n",
              "      <td>Operacional</td>\n",
              "      <td>CEPES - 003</td>\n",
              "    </tr>\n",
              "    <tr>\n",
              "      <th>2</th>\n",
              "      <td>1.0</td>\n",
              "      <td>Secretaria Acadêmica</td>\n",
              "      <td>Computador PC</td>\n",
              "      <td>Dell Vostro</td>\n",
              "      <td>Operacional</td>\n",
              "      <td>CEPES - 003</td>\n",
              "    </tr>\n",
              "    <tr>\n",
              "      <th>3</th>\n",
              "      <td>1.0</td>\n",
              "      <td>Secretaria Acadêmica</td>\n",
              "      <td>Computador PC</td>\n",
              "      <td>Dell Vostro</td>\n",
              "      <td>Operacional</td>\n",
              "      <td>CEPES - 003</td>\n",
              "    </tr>\n",
              "    <tr>\n",
              "      <th>4</th>\n",
              "      <td>1.0</td>\n",
              "      <td>Secretaria Acadêmica</td>\n",
              "      <td>Computador PC</td>\n",
              "      <td>Genérico</td>\n",
              "      <td>Operacional</td>\n",
              "      <td>CEPES - 003</td>\n",
              "    </tr>\n",
              "  </tbody>\n",
              "</table>\n",
              "</div>\n",
              "      <button class=\"colab-df-convert\" onclick=\"convertToInteractive('df-32827e07-9a84-4cca-bbca-32300cc2393c')\"\n",
              "              title=\"Convert this dataframe to an interactive table.\"\n",
              "              style=\"display:none;\">\n",
              "        \n",
              "  <svg xmlns=\"http://www.w3.org/2000/svg\" height=\"24px\"viewBox=\"0 0 24 24\"\n",
              "       width=\"24px\">\n",
              "    <path d=\"M0 0h24v24H0V0z\" fill=\"none\"/>\n",
              "    <path d=\"M18.56 5.44l.94 2.06.94-2.06 2.06-.94-2.06-.94-.94-2.06-.94 2.06-2.06.94zm-11 1L8.5 8.5l.94-2.06 2.06-.94-2.06-.94L8.5 2.5l-.94 2.06-2.06.94zm10 10l.94 2.06.94-2.06 2.06-.94-2.06-.94-.94-2.06-.94 2.06-2.06.94z\"/><path d=\"M17.41 7.96l-1.37-1.37c-.4-.4-.92-.59-1.43-.59-.52 0-1.04.2-1.43.59L10.3 9.45l-7.72 7.72c-.78.78-.78 2.05 0 2.83L4 21.41c.39.39.9.59 1.41.59.51 0 1.02-.2 1.41-.59l7.78-7.78 2.81-2.81c.8-.78.8-2.07 0-2.86zM5.41 20L4 18.59l7.72-7.72 1.47 1.35L5.41 20z\"/>\n",
              "  </svg>\n",
              "      </button>\n",
              "      \n",
              "  <style>\n",
              "    .colab-df-container {\n",
              "      display:flex;\n",
              "      flex-wrap:wrap;\n",
              "      gap: 12px;\n",
              "    }\n",
              "\n",
              "    .colab-df-convert {\n",
              "      background-color: #E8F0FE;\n",
              "      border: none;\n",
              "      border-radius: 50%;\n",
              "      cursor: pointer;\n",
              "      display: none;\n",
              "      fill: #1967D2;\n",
              "      height: 32px;\n",
              "      padding: 0 0 0 0;\n",
              "      width: 32px;\n",
              "    }\n",
              "\n",
              "    .colab-df-convert:hover {\n",
              "      background-color: #E2EBFA;\n",
              "      box-shadow: 0px 1px 2px rgba(60, 64, 67, 0.3), 0px 1px 3px 1px rgba(60, 64, 67, 0.15);\n",
              "      fill: #174EA6;\n",
              "    }\n",
              "\n",
              "    [theme=dark] .colab-df-convert {\n",
              "      background-color: #3B4455;\n",
              "      fill: #D2E3FC;\n",
              "    }\n",
              "\n",
              "    [theme=dark] .colab-df-convert:hover {\n",
              "      background-color: #434B5C;\n",
              "      box-shadow: 0px 1px 3px 1px rgba(0, 0, 0, 0.15);\n",
              "      filter: drop-shadow(0px 1px 2px rgba(0, 0, 0, 0.3));\n",
              "      fill: #FFFFFF;\n",
              "    }\n",
              "  </style>\n",
              "\n",
              "      <script>\n",
              "        const buttonEl =\n",
              "          document.querySelector('#df-32827e07-9a84-4cca-bbca-32300cc2393c button.colab-df-convert');\n",
              "        buttonEl.style.display =\n",
              "          google.colab.kernel.accessAllowed ? 'block' : 'none';\n",
              "\n",
              "        async function convertToInteractive(key) {\n",
              "          const element = document.querySelector('#df-32827e07-9a84-4cca-bbca-32300cc2393c');\n",
              "          const dataTable =\n",
              "            await google.colab.kernel.invokeFunction('convertToInteractive',\n",
              "                                                     [key], {});\n",
              "          if (!dataTable) return;\n",
              "\n",
              "          const docLinkHtml = 'Like what you see? Visit the ' +\n",
              "            '<a target=\"_blank\" href=https://colab.research.google.com/notebooks/data_table.ipynb>data table notebook</a>'\n",
              "            + ' to learn more about interactive tables.';\n",
              "          element.innerHTML = '';\n",
              "          dataTable['output_type'] = 'display_data';\n",
              "          await google.colab.output.renderOutput(dataTable, element);\n",
              "          const docLink = document.createElement('div');\n",
              "          docLink.innerHTML = docLinkHtml;\n",
              "          element.appendChild(docLink);\n",
              "        }\n",
              "      </script>\n",
              "    </div>\n",
              "  </div>\n",
              "  "
            ]
          },
          "metadata": {},
          "execution_count": 62
        }
      ]
    },
    {
      "cell_type": "code",
      "source": [
        "dadosatv['SETOR'].unique() #listando os setores existentes na base do inventário"
      ],
      "metadata": {
        "colab": {
          "base_uri": "https://localhost:8080/"
        },
        "id": "LZWD3EaP6ynH",
        "outputId": "ac5452b3-4133-47a7-a4d5-f8323c5161a1"
      },
      "execution_count": null,
      "outputs": [
        {
          "output_type": "execute_result",
          "data": {
            "text/plain": [
              "array(['Secretaria Acadêmica ', 'Coordenação ', 'Biblioteca',\n",
              "       'Sala dos Professores', 'Laboratório de Informática', 'Geral'],\n",
              "      dtype=object)"
            ]
          },
          "metadata": {},
          "execution_count": 50
        }
      ]
    },
    {
      "cell_type": "code",
      "source": [
        "dadosatv.info() #conhecendo os parametros da base"
      ],
      "metadata": {
        "colab": {
          "base_uri": "https://localhost:8080/"
        },
        "id": "QOdqT1GI7NQU",
        "outputId": "bd573da2-634e-40c1-f59c-87589125d3e2"
      },
      "execution_count": null,
      "outputs": [
        {
          "output_type": "stream",
          "name": "stdout",
          "text": [
            "<class 'pandas.core.frame.DataFrame'>\n",
            "RangeIndex: 37 entries, 0 to 36\n",
            "Data columns (total 6 columns):\n",
            " #   Column           Non-Null Count  Dtype  \n",
            "---  ------           --------------  -----  \n",
            " 0   ID SETOR         37 non-null     float64\n",
            " 1   SETOR            37 non-null     object \n",
            " 2   TIPO             37 non-null     object \n",
            " 3   MODELO           37 non-null     object \n",
            " 4   SITUAÇÃO         37 non-null     object \n",
            " 5   CENTRO DE CUSTO  37 non-null     object \n",
            "dtypes: float64(1), object(5)\n",
            "memory usage: 1.9+ KB\n"
          ]
        }
      ]
    },
    {
      "cell_type": "code",
      "source": [
        "dadosatv['SETOR'].value_counts()"
      ],
      "metadata": {
        "colab": {
          "base_uri": "https://localhost:8080/"
        },
        "id": "pJ1TCwEJ9Gsw",
        "outputId": "37a76da9-51a0-44f4-9406-fec099a96eda"
      },
      "execution_count": null,
      "outputs": [
        {
          "output_type": "execute_result",
          "data": {
            "text/plain": [
              "Laboratório de Informática    18\n",
              "Biblioteca                     7\n",
              "Secretaria Acadêmica           5\n",
              "Coordenação                    5\n",
              "Sala dos Professores           1\n",
              "Geral                          1\n",
              "Name: SETOR, dtype: int64"
            ]
          },
          "metadata": {},
          "execution_count": 28
        }
      ]
    },
    {
      "cell_type": "code",
      "source": [
        "dadosatv['SITUAÇÃO'].value_counts()"
      ],
      "metadata": {
        "colab": {
          "base_uri": "https://localhost:8080/"
        },
        "id": "n-Y_HSguDUBL",
        "outputId": "be9a4065-d138-43fc-b2f9-ac06917d64a8"
      },
      "execution_count": null,
      "outputs": [
        {
          "output_type": "execute_result",
          "data": {
            "text/plain": [
              "Operacional    27\n",
              "Manutenção     10\n",
              "Name: SITUAÇÃO, dtype: int64"
            ]
          },
          "metadata": {},
          "execution_count": 29
        }
      ]
    },
    {
      "cell_type": "code",
      "source": [
        "dadosatv['TIPO'].value_counts() "
      ],
      "metadata": {
        "colab": {
          "base_uri": "https://localhost:8080/"
        },
        "id": "eB_ls5l7EraT",
        "outputId": "b2cdbc35-1850-479f-eacf-a7b919160b4a"
      },
      "execution_count": null,
      "outputs": [
        {
          "output_type": "execute_result",
          "data": {
            "text/plain": [
              "Computador PC    36\n",
              "Notebook          1\n",
              "Name: TIPO, dtype: int64"
            ]
          },
          "metadata": {},
          "execution_count": 30
        }
      ]
    },
    {
      "cell_type": "code",
      "source": [
        "dadosatv['SITUAÇÃO'].value_counts().plot.bar() \n",
        "plt.xlabel('Situação')\n",
        "plt.ylabel('Quantidade por situação')\n",
        "plt.show()"
      ],
      "metadata": {
        "colab": {
          "base_uri": "https://localhost:8080/",
          "height": 331
        },
        "id": "f7HvFxuqFkn2",
        "outputId": "5b035cef-17d6-44a0-d6f3-00a937b7ed18"
      },
      "execution_count": null,
      "outputs": [
        {
          "output_type": "display_data",
          "data": {
            "text/plain": [
              "<Figure size 432x288 with 1 Axes>"
            ],
            "image/png": "[encoded data removed]"
          },
          "metadata": {
            "needs_background": "light"
          }
        }
      ]
    },
    {
      "cell_type": "code",
      "source": [
        "iv_situacao = dadosatv.groupby('SETOR')['SITUAÇÃO'].apply(lambda x: (x== 'Manutenção').sum()) # 1 -groupby() é utilizado p/ agrupar os ativos por setor. 2 - Uso a função lambda p/ contar a quantidade de ativos em \"manutenção\" por setor.\n",
        "iv_situacao = iv_situacao.sort_values(ascending= False) \n",
        "print(iv_situacao) "
      ],
      "metadata": {
        "colab": {
          "base_uri": "https://localhost:8080/"
        },
        "id": "uF8URgl-M6pk",
        "outputId": "92ca8475-2012-4399-c460-71a0e3aabc6b"
      },
      "execution_count": null,
      "outputs": [
        {
          "output_type": "stream",
          "name": "stdout",
          "text": [
            "SETOR\n",
            "Sala dos Professores\\t                               3\n",
            "Biblioteca                                           1\n",
            "Comercial\\t                                          1\n",
            "Coordenação Geral\\t                                  1\n",
            "Financeiro\\t                                         0\n",
            "Secretaria Acadêmica                                 0\n",
            "SPA Campus II\\t                                      0\n",
            "SESMT                                                0\n",
            "Responsável Técnica Clinica Escola Fisioterapia\\t    0\n",
            "Recepção Clinica Escola de Fisioterapia\\t            0\n",
            "Recepção                                             0\n",
            "R.H\\t                                                0\n",
            "Pós Graduação\\t                                      0\n",
            "Fies\\t                                               0\n",
            "Biotério                                             0\n",
            "Coordenação de Pós-Graduação\\t                       0\n",
            "Coordenação de Pedagogia\\t                           0\n",
            "Coordenação de Odontologia\\t                         0\n",
            "Coordenação de Fisioterapia\\t                        0\n",
            "Coordenação Geral - Radiologia\\t                     0\n",
            "Contabilidade                                        0\n",
            "Cobrança\\t                                           0\n",
            "Central de Atendimento\\t                             0\n",
            "Áudio e Vídeo                                        0\n",
            "Name: SITUAÇÃO, dtype: int64\n"
          ]
        }
      ]
    },
    {
      "cell_type": "code",
      "source": [
        "iv_situacao.plot(kind='pie', autopct='%.1f%%')"
      ],
      "metadata": {
        "colab": {
          "base_uri": "https://localhost:8080/",
          "height": 317
        },
        "id": "-gJnFgOugNaC",
        "outputId": "36a76f6f-573f-447e-ec27-737c9a650585"
      },
      "execution_count": null,
      "outputs": [
        {
          "output_type": "execute_result",
          "data": {
            "text/plain": [
              "<matplotlib.axes._subplots.AxesSubplot at 0x7f7bd1ce96a0>"
            ]
          },
          "metadata": {},
          "execution_count": 9
        },
        {
          "output_type": "stream",
          "name": "stderr",
          "text": [
            "/usr/local/lib/python3.8/dist-packages/matplotlib/backends/backend_agg.py:214: RuntimeWarning: Glyph 9 missing from current font.\n",
            "  font.set_text(s, 0.0, flags=flags)\n",
            "/usr/local/lib/python3.8/dist-packages/matplotlib/backends/backend_agg.py:183: RuntimeWarning: Glyph 9 missing from current font.\n",
            "  font.set_text(s, 0, flags=flags)\n"
          ]
        },
        {
          "output_type": "display_data",
          "data": {
            "text/plain": [
              "<Figure size 432x288 with 1 Axes>"
            ],
            "image/png": "[encoded data removed]"
          },
          "metadata": {}
        }
      ]
    },
    {
      "cell_type": "code",
      "source": [
        "iv_situacao.plot(kind='bar', figsize=(10,5), color='b') # 1 - com o argumento kind estou utilizando uma forma de definir o tipo de gráfico, 2 - figsize, para definir o tamanho da imagem, 3- color, para definir a cor das barras\n",
        "plt.ylabel ('Quantidaded de Ativos de informática em manutenção -CEPES') #legenda do gráfico no eixo y\n",
        "plt.show()"
      ],
      "metadata": {
        "colab": {
          "base_uri": "https://localhost:8080/",
          "height": 477
        },
        "id": "jxWICJf3hI9x",
        "outputId": "c95c071f-8923-4408-dfe2-1c7e5fce673c"
      },
      "execution_count": null,
      "outputs": [
        {
          "output_type": "display_data",
          "data": {
            "text/plain": [
              "<Figure size 720x360 with 1 Axes>"
            ],
            "image/png": "[encoded data removed]"
          },
          "metadata": {
            "needs_background": "light"
          }
        }
      ]
    },
    {
      "cell_type": "markdown",
      "source": [
        "# **BASE MATRIZ - FE**"
      ],
      "metadata": {
        "id": "5k3zSLbtxVzQ"
      }
    },
    {
      "cell_type": "code",
      "source": [
        "dadosatv = pd.read_excel('/content/drive/MyDrive/INVENTÁRIO .xlsx', sheet_name='MATRIZ')\n",
        "print(f\"linhas:{dadosatv.shape[0]}\")\n",
        "print(f\"colunas:{dadosatv.shape[1]}\")"
      ],
      "metadata": {
        "colab": {
          "base_uri": "https://localhost:8080/"
        },
        "id": "syp0j4L3yy8h",
        "outputId": "9e4627c7-1093-44f2-937a-3be031fb7024"
      },
      "execution_count": null,
      "outputs": [
        {
          "output_type": "stream",
          "name": "stdout",
          "text": [
            "linhas:22\n",
            "colunas:11\n"
          ]
        }
      ]
    },
    {
      "cell_type": "code",
      "source": [
        "dadosatv = pd.read_excel('/content/drive/MyDrive/INVENTÁRIO .xlsx', sheet_name='MATRIZ', usecols = [2,3,4,5,7,10])\n",
        "dadosatv.head()"
      ],
      "metadata": {
        "colab": {
          "base_uri": "https://localhost:8080/",
          "height": 215
        },
        "id": "kqxi9yAvlcdr",
        "outputId": "f2cc0d52-3b69-4376-9e6a-3a0e993deed0"
      },
      "execution_count": null,
      "outputs": [
        {
          "output_type": "execute_result",
          "data": {
            "text/plain": [
              "                    SETOR           TIPO              MODELO     SITUAÇÃO  \\\n",
              "0  Clínica Odontológica\\t       Notebook  Lenovo IdeaPad 330  Operacional   \n",
              "1  Clínica Odontológica\\t       Notebook  Lenovo IdeaPad 330  Operacional   \n",
              "2  Clínica Odontológica\\t  Computador PC            Genérico  Operacional   \n",
              "3  Clínica Odontológica\\t  Computador PC            Genérico  Operacional   \n",
              "4  Clínica Odontológica\\t  Computador PC            Genérico  Operacional   \n",
              "\n",
              "     MÉMORIA CENTRO DE CUSTO  \n",
              "0  DDR-4 4GB      MATRIZ-001  \n",
              "1  DDR-4 4GB      MATRIZ-001  \n",
              "2  DDR-3 4GB      MATRIZ-001  \n",
              "3  DDR-4 8GB      MATRIZ-001  \n",
              "4  DDR-3 4GB      MATRIZ-001  "
            ],
            "text/html": [
              "\n",
              "  <div id=\"df-df84432e-c558-4c43-9515-476ecc493319\">\n",
              "    <div class=\"colab-df-container\">\n",
              "      <div>\n",
              "<style scoped>\n",
              "    .dataframe tbody tr th:only-of-type {\n",
              "        vertical-align: middle;\n",
              "    }\n",
              "\n",
              "    .dataframe tbody tr th {\n",
              "        vertical-align: top;\n",
              "    }\n",
              "\n",
              "    .dataframe thead th {\n",
              "        text-align: right;\n",
              "    }\n",
              "</style>\n",
              "<table border=\"1\" class=\"dataframe\">\n",
              "  <thead>\n",
              "    <tr style=\"text-align: right;\">\n",
              "      <th></th>\n",
              "      <th>SETOR</th>\n",
              "      <th>TIPO</th>\n",
              "      <th>MODELO</th>\n",
              "      <th>SITUAÇÃO</th>\n",
              "      <th>MÉMORIA</th>\n",
              "      <th>CENTRO DE CUSTO</th>\n",
              "    </tr>\n",
              "  </thead>\n",
              "  <tbody>\n",
              "    <tr>\n",
              "      <th>0</th>\n",
              "      <td>Clínica Odontológica\\t</td>\n",
              "      <td>Notebook</td>\n",
              "      <td>Lenovo IdeaPad 330</td>\n",
              "      <td>Operacional</td>\n",
              "      <td>DDR-4 4GB</td>\n",
              "      <td>MATRIZ-001</td>\n",
              "    </tr>\n",
              "    <tr>\n",
              "      <th>1</th>\n",
              "      <td>Clínica Odontológica\\t</td>\n",
              "      <td>Notebook</td>\n",
              "      <td>Lenovo IdeaPad 330</td>\n",
              "      <td>Operacional</td>\n",
              "      <td>DDR-4 4GB</td>\n",
              "      <td>MATRIZ-001</td>\n",
              "    </tr>\n",
              "    <tr>\n",
              "      <th>2</th>\n",
              "      <td>Clínica Odontológica\\t</td>\n",
              "      <td>Computador PC</td>\n",
              "      <td>Genérico</td>\n",
              "      <td>Operacional</td>\n",
              "      <td>DDR-3 4GB</td>\n",
              "      <td>MATRIZ-001</td>\n",
              "    </tr>\n",
              "    <tr>\n",
              "      <th>3</th>\n",
              "      <td>Clínica Odontológica\\t</td>\n",
              "      <td>Computador PC</td>\n",
              "      <td>Genérico</td>\n",
              "      <td>Operacional</td>\n",
              "      <td>DDR-4 8GB</td>\n",
              "      <td>MATRIZ-001</td>\n",
              "    </tr>\n",
              "    <tr>\n",
              "      <th>4</th>\n",
              "      <td>Clínica Odontológica\\t</td>\n",
              "      <td>Computador PC</td>\n",
              "      <td>Genérico</td>\n",
              "      <td>Operacional</td>\n",
              "      <td>DDR-3 4GB</td>\n",
              "      <td>MATRIZ-001</td>\n",
              "    </tr>\n",
              "  </tbody>\n",
              "</table>\n",
              "</div>\n",
              "      <button class=\"colab-df-convert\" onclick=\"convertToInteractive('df-df84432e-c558-4c43-9515-476ecc493319')\"\n",
              "              title=\"Convert this dataframe to an interactive table.\"\n",
              "              style=\"display:none;\">\n",
              "        \n",
              "  <svg xmlns=\"http://www.w3.org/2000/svg\" height=\"24px\"viewBox=\"0 0 24 24\"\n",
              "       width=\"24px\">\n",
              "    <path d=\"M0 0h24v24H0V0z\" fill=\"none\"/>\n",
              "    <path d=\"M18.56 5.44l.94 2.06.94-2.06 2.06-.94-2.06-.94-.94-2.06-.94 2.06-2.06.94zm-11 1L8.5 8.5l.94-2.06 2.06-.94-2.06-.94L8.5 2.5l-.94 2.06-2.06.94zm10 10l.94 2.06.94-2.06 2.06-.94-2.06-.94-.94-2.06-.94 2.06-2.06.94z\"/><path d=\"M17.41 7.96l-1.37-1.37c-.4-.4-.92-.59-1.43-.59-.52 0-1.04.2-1.43.59L10.3 9.45l-7.72 7.72c-.78.78-.78 2.05 0 2.83L4 21.41c.39.39.9.59 1.41.59.51 0 1.02-.2 1.41-.59l7.78-7.78 2.81-2.81c.8-.78.8-2.07 0-2.86zM5.41 20L4 18.59l7.72-7.72 1.47 1.35L5.41 20z\"/>\n",
              "  </svg>\n",
              "      </button>\n",
              "      \n",
              "  <style>\n",
              "    .colab-df-container {\n",
              "      display:flex;\n",
              "      flex-wrap:wrap;\n",
              "      gap: 12px;\n",
              "    }\n",
              "\n",
              "    .colab-df-convert {\n",
              "      background-color: #E8F0FE;\n",
              "      border: none;\n",
              "      border-radius: 50%;\n",
              "      cursor: pointer;\n",
              "      display: none;\n",
              "      fill: #1967D2;\n",
              "      height: 32px;\n",
              "      padding: 0 0 0 0;\n",
              "      width: 32px;\n",
              "    }\n",
              "\n",
              "    .colab-df-convert:hover {\n",
              "      background-color: #E2EBFA;\n",
              "      box-shadow: 0px 1px 2px rgba(60, 64, 67, 0.3), 0px 1px 3px 1px rgba(60, 64, 67, 0.15);\n",
              "      fill: #174EA6;\n",
              "    }\n",
              "\n",
              "    [theme=dark] .colab-df-convert {\n",
              "      background-color: #3B4455;\n",
              "      fill: #D2E3FC;\n",
              "    }\n",
              "\n",
              "    [theme=dark] .colab-df-convert:hover {\n",
              "      background-color: #434B5C;\n",
              "      box-shadow: 0px 1px 3px 1px rgba(0, 0, 0, 0.15);\n",
              "      filter: drop-shadow(0px 1px 2px rgba(0, 0, 0, 0.3));\n",
              "      fill: #FFFFFF;\n",
              "    }\n",
              "  </style>\n",
              "\n",
              "      <script>\n",
              "        const buttonEl =\n",
              "          document.querySelector('#df-df84432e-c558-4c43-9515-476ecc493319 button.colab-df-convert');\n",
              "        buttonEl.style.display =\n",
              "          google.colab.kernel.accessAllowed ? 'block' : 'none';\n",
              "\n",
              "        async function convertToInteractive(key) {\n",
              "          const element = document.querySelector('#df-df84432e-c558-4c43-9515-476ecc493319');\n",
              "          const dataTable =\n",
              "            await google.colab.kernel.invokeFunction('convertToInteractive',\n",
              "                                                     [key], {});\n",
              "          if (!dataTable) return;\n",
              "\n",
              "          const docLinkHtml = 'Like what you see? Visit the ' +\n",
              "            '<a target=\"_blank\" href=https://colab.research.google.com/notebooks/data_table.ipynb>data table notebook</a>'\n",
              "            + ' to learn more about interactive tables.';\n",
              "          element.innerHTML = '';\n",
              "          dataTable['output_type'] = 'display_data';\n",
              "          await google.colab.output.renderOutput(dataTable, element);\n",
              "          const docLink = document.createElement('div');\n",
              "          docLink.innerHTML = docLinkHtml;\n",
              "          element.appendChild(docLink);\n",
              "        }\n",
              "      </script>\n",
              "    </div>\n",
              "  </div>\n",
              "  "
            ]
          },
          "metadata": {},
          "execution_count": 5
        }
      ]
    },
    {
      "cell_type": "code",
      "source": [
        "dadosatv['SETOR'] = dadosatv['SETOR'].str.replace(\"\\t\", \"\") #Removendo formatações da base, utilizando o método str.replace para substituir \\t por uma str vazia"
      ],
      "metadata": {
        "id": "rxsWHCWWzZEW"
      },
      "execution_count": null,
      "outputs": []
    },
    {
      "cell_type": "code",
      "source": [
        "dadosatv.head()"
      ],
      "metadata": {
        "colab": {
          "base_uri": "https://localhost:8080/",
          "height": 215
        },
        "id": "sFp7MpoUzqdi",
        "outputId": "4aee9510-7eca-4020-9088-c2658e03d985"
      },
      "execution_count": null,
      "outputs": [
        {
          "output_type": "execute_result",
          "data": {
            "text/plain": [
              "                  SETOR           TIPO              MODELO     SITUAÇÃO  \\\n",
              "0  Clínica Odontológica       Notebook  Lenovo IdeaPad 330  Operacional   \n",
              "1  Clínica Odontológica       Notebook  Lenovo IdeaPad 330  Operacional   \n",
              "2  Clínica Odontológica  Computador PC            Genérico  Operacional   \n",
              "3  Clínica Odontológica  Computador PC            Genérico  Operacional   \n",
              "4  Clínica Odontológica  Computador PC            Genérico  Operacional   \n",
              "\n",
              "  CENTRO DE CUSTO  \n",
              "0      MATRIZ-001  \n",
              "1      MATRIZ-001  \n",
              "2      MATRIZ-001  \n",
              "3      MATRIZ-001  \n",
              "4      MATRIZ-001  "
            ],
            "text/html": [
              "\n",
              "  <div id=\"df-6bdc24d7-98b0-4348-b6b3-2b92457766ef\">\n",
              "    <div class=\"colab-df-container\">\n",
              "      <div>\n",
              "<style scoped>\n",
              "    .dataframe tbody tr th:only-of-type {\n",
              "        vertical-align: middle;\n",
              "    }\n",
              "\n",
              "    .dataframe tbody tr th {\n",
              "        vertical-align: top;\n",
              "    }\n",
              "\n",
              "    .dataframe thead th {\n",
              "        text-align: right;\n",
              "    }\n",
              "</style>\n",
              "<table border=\"1\" class=\"dataframe\">\n",
              "  <thead>\n",
              "    <tr style=\"text-align: right;\">\n",
              "      <th></th>\n",
              "      <th>SETOR</th>\n",
              "      <th>TIPO</th>\n",
              "      <th>MODELO</th>\n",
              "      <th>SITUAÇÃO</th>\n",
              "      <th>CENTRO DE CUSTO</th>\n",
              "    </tr>\n",
              "  </thead>\n",
              "  <tbody>\n",
              "    <tr>\n",
              "      <th>0</th>\n",
              "      <td>Clínica Odontológica</td>\n",
              "      <td>Notebook</td>\n",
              "      <td>Lenovo IdeaPad 330</td>\n",
              "      <td>Operacional</td>\n",
              "      <td>MATRIZ-001</td>\n",
              "    </tr>\n",
              "    <tr>\n",
              "      <th>1</th>\n",
              "      <td>Clínica Odontológica</td>\n",
              "      <td>Notebook</td>\n",
              "      <td>Lenovo IdeaPad 330</td>\n",
              "      <td>Operacional</td>\n",
              "      <td>MATRIZ-001</td>\n",
              "    </tr>\n",
              "    <tr>\n",
              "      <th>2</th>\n",
              "      <td>Clínica Odontológica</td>\n",
              "      <td>Computador PC</td>\n",
              "      <td>Genérico</td>\n",
              "      <td>Operacional</td>\n",
              "      <td>MATRIZ-001</td>\n",
              "    </tr>\n",
              "    <tr>\n",
              "      <th>3</th>\n",
              "      <td>Clínica Odontológica</td>\n",
              "      <td>Computador PC</td>\n",
              "      <td>Genérico</td>\n",
              "      <td>Operacional</td>\n",
              "      <td>MATRIZ-001</td>\n",
              "    </tr>\n",
              "    <tr>\n",
              "      <th>4</th>\n",
              "      <td>Clínica Odontológica</td>\n",
              "      <td>Computador PC</td>\n",
              "      <td>Genérico</td>\n",
              "      <td>Operacional</td>\n",
              "      <td>MATRIZ-001</td>\n",
              "    </tr>\n",
              "  </tbody>\n",
              "</table>\n",
              "</div>\n",
              "      <button class=\"colab-df-convert\" onclick=\"convertToInteractive('df-6bdc24d7-98b0-4348-b6b3-2b92457766ef')\"\n",
              "              title=\"Convert this dataframe to an interactive table.\"\n",
              "              style=\"display:none;\">\n",
              "        \n",
              "  <svg xmlns=\"http://www.w3.org/2000/svg\" height=\"24px\"viewBox=\"0 0 24 24\"\n",
              "       width=\"24px\">\n",
              "    <path d=\"M0 0h24v24H0V0z\" fill=\"none\"/>\n",
              "    <path d=\"M18.56 5.44l.94 2.06.94-2.06 2.06-.94-2.06-.94-.94-2.06-.94 2.06-2.06.94zm-11 1L8.5 8.5l.94-2.06 2.06-.94-2.06-.94L8.5 2.5l-.94 2.06-2.06.94zm10 10l.94 2.06.94-2.06 2.06-.94-2.06-.94-.94-2.06-.94 2.06-2.06.94z\"/><path d=\"M17.41 7.96l-1.37-1.37c-.4-.4-.92-.59-1.43-.59-.52 0-1.04.2-1.43.59L10.3 9.45l-7.72 7.72c-.78.78-.78 2.05 0 2.83L4 21.41c.39.39.9.59 1.41.59.51 0 1.02-.2 1.41-.59l7.78-7.78 2.81-2.81c.8-.78.8-2.07 0-2.86zM5.41 20L4 18.59l7.72-7.72 1.47 1.35L5.41 20z\"/>\n",
              "  </svg>\n",
              "      </button>\n",
              "      \n",
              "  <style>\n",
              "    .colab-df-container {\n",
              "      display:flex;\n",
              "      flex-wrap:wrap;\n",
              "      gap: 12px;\n",
              "    }\n",
              "\n",
              "    .colab-df-convert {\n",
              "      background-color: #E8F0FE;\n",
              "      border: none;\n",
              "      border-radius: 50%;\n",
              "      cursor: pointer;\n",
              "      display: none;\n",
              "      fill: #1967D2;\n",
              "      height: 32px;\n",
              "      padding: 0 0 0 0;\n",
              "      width: 32px;\n",
              "    }\n",
              "\n",
              "    .colab-df-convert:hover {\n",
              "      background-color: #E2EBFA;\n",
              "      box-shadow: 0px 1px 2px rgba(60, 64, 67, 0.3), 0px 1px 3px 1px rgba(60, 64, 67, 0.15);\n",
              "      fill: #174EA6;\n",
              "    }\n",
              "\n",
              "    [theme=dark] .colab-df-convert {\n",
              "      background-color: #3B4455;\n",
              "      fill: #D2E3FC;\n",
              "    }\n",
              "\n",
              "    [theme=dark] .colab-df-convert:hover {\n",
              "      background-color: #434B5C;\n",
              "      box-shadow: 0px 1px 3px 1px rgba(0, 0, 0, 0.15);\n",
              "      filter: drop-shadow(0px 1px 2px rgba(0, 0, 0, 0.3));\n",
              "      fill: #FFFFFF;\n",
              "    }\n",
              "  </style>\n",
              "\n",
              "      <script>\n",
              "        const buttonEl =\n",
              "          document.querySelector('#df-6bdc24d7-98b0-4348-b6b3-2b92457766ef button.colab-df-convert');\n",
              "        buttonEl.style.display =\n",
              "          google.colab.kernel.accessAllowed ? 'block' : 'none';\n",
              "\n",
              "        async function convertToInteractive(key) {\n",
              "          const element = document.querySelector('#df-6bdc24d7-98b0-4348-b6b3-2b92457766ef');\n",
              "          const dataTable =\n",
              "            await google.colab.kernel.invokeFunction('convertToInteractive',\n",
              "                                                     [key], {});\n",
              "          if (!dataTable) return;\n",
              "\n",
              "          const docLinkHtml = 'Like what you see? Visit the ' +\n",
              "            '<a target=\"_blank\" href=https://colab.research.google.com/notebooks/data_table.ipynb>data table notebook</a>'\n",
              "            + ' to learn more about interactive tables.';\n",
              "          element.innerHTML = '';\n",
              "          dataTable['output_type'] = 'display_data';\n",
              "          await google.colab.output.renderOutput(dataTable, element);\n",
              "          const docLink = document.createElement('div');\n",
              "          docLink.innerHTML = docLinkHtml;\n",
              "          element.appendChild(docLink);\n",
              "        }\n",
              "      </script>\n",
              "    </div>\n",
              "  </div>\n",
              "  "
            ]
          },
          "metadata": {},
          "execution_count": 17
        }
      ]
    },
    {
      "cell_type": "code",
      "source": [
        "dadosatv['SETOR'].value_counts() "
      ],
      "metadata": {
        "colab": {
          "base_uri": "https://localhost:8080/"
        },
        "id": "OXmCBLdj5QaW",
        "outputId": "b3596628-a0b4-407d-b269-f3713e09e388"
      },
      "execution_count": null,
      "outputs": [
        {
          "output_type": "execute_result",
          "data": {
            "text/plain": [
              "T.I                              6\n",
              "Clínica Odontológica             5\n",
              "Clinica Escola Odontologia/01    3\n",
              "Administração                    3\n",
              "LGPD                             2\n",
              "Clinica Escola Odontologia/3     1\n",
              "Clinica Escola Odontologia/2     1\n",
              "SESMT                            1\n",
              "Name: SETOR, dtype: int64"
            ]
          },
          "metadata": {},
          "execution_count": 191
        }
      ]
    },
    {
      "cell_type": "code",
      "source": [
        "#Exibindo os setores por quantidade de equipamentos em manutenção\n",
        "iv_situacao = dadosatv.groupby('SETOR')['SITUAÇÃO'].apply(lambda x: (x== 'Manutenção').sum())\n",
        "iv_situacao = iv_situacao.sort_values(ascending= False) \n",
        "print(iv_situacao)"
      ],
      "metadata": {
        "colab": {
          "base_uri": "https://localhost:8080/"
        },
        "outputId": "0af6725d-2a86-4118-fcc5-15c3755bdf41",
        "id": "ETBCS3Mp7O3d"
      },
      "execution_count": null,
      "outputs": [
        {
          "output_type": "stream",
          "name": "stdout",
          "text": [
            "SETOR\n",
            "Administração                    0\n",
            "Clinica Escola Odontologia/01    0\n",
            "Clinica Escola Odontologia/2     0\n",
            "Clinica Escola Odontologia/3     0\n",
            "Clínica Odontológica             0\n",
            "LGPD                             0\n",
            "SESMT                            0\n",
            "T.I                              0\n",
            "Name: SITUAÇÃO, dtype: int64\n"
          ]
        }
      ]
    },
    {
      "cell_type": "code",
      "source": [
        "dadosatv['TIPO'].unique() #LISTANDO OS ATIVOS POR CATEGORIA"
      ],
      "metadata": {
        "colab": {
          "base_uri": "https://localhost:8080/"
        },
        "id": "8hk1ohcD7kOb",
        "outputId": "71e5310d-80e7-4cca-fe65-5fc1801001b7"
      },
      "execution_count": null,
      "outputs": [
        {
          "output_type": "execute_result",
          "data": {
            "text/plain": [
              "array(['Notebook', 'Computador PC', 'Computador PC\\t', 'All In One'],\n",
              "      dtype=object)"
            ]
          },
          "metadata": {},
          "execution_count": 193
        }
      ]
    },
    {
      "cell_type": "code",
      "source": [
        "dadosatv['TIPO'] = dadosatv['TIPO'].str.replace(\"\\t\", \"\") "
      ],
      "metadata": {
        "id": "s6DXxEW88Ov_"
      },
      "execution_count": null,
      "outputs": []
    },
    {
      "cell_type": "code",
      "source": [
        "dadosatv['TIPO'].unique()"
      ],
      "metadata": {
        "colab": {
          "base_uri": "https://localhost:8080/"
        },
        "id": "50R8WST78Uft",
        "outputId": "f9e4314e-87c5-4468-fee5-3369fe3c9872"
      },
      "execution_count": null,
      "outputs": [
        {
          "output_type": "execute_result",
          "data": {
            "text/plain": [
              "array(['Notebook', 'Computador PC', 'All In One'], dtype=object)"
            ]
          },
          "metadata": {},
          "execution_count": 19
        }
      ]
    },
    {
      "cell_type": "code",
      "source": [
        "dadosatv['TIPO'].value_counts().plot.bar()"
      ],
      "metadata": {
        "colab": {
          "base_uri": "https://localhost:8080/",
          "height": 350
        },
        "id": "dX48s4_V9Spa",
        "outputId": "0af70196-b156-46d5-ba9a-e53160b11bd4"
      },
      "execution_count": null,
      "outputs": [
        {
          "output_type": "execute_result",
          "data": {
            "text/plain": [
              "<matplotlib.axes._subplots.AxesSubplot at 0x7f7ea0ad1c70>"
            ]
          },
          "metadata": {},
          "execution_count": 197
        },
        {
          "output_type": "display_data",
          "data": {
            "text/plain": [
              "<Figure size 432x288 with 1 Axes>"
            ],
            "image/png": "[encoded data removed]"
          },
          "metadata": {
            "needs_background": "light"
          }
        }
      ]
    },
    {
      "cell_type": "markdown",
      "source": [
        "# **BASE MANTIDA 02 (CAMPUS I, II e III)**"
      ],
      "metadata": {
        "id": "anYoaLBM_O2L"
      }
    },
    {
      "cell_type": "code",
      "source": [
        "dadosatv = pd.read_excel('/content/drive/MyDrive/INVENTÁRIO .xlsx', sheet_name='MANTIDA 02')\n",
        "print(f\"linhas:{dadosatv.shape[0]}\")\n",
        "print(f\"colunas:{dadosatv.shape[1]}\")"
      ],
      "metadata": {
        "colab": {
          "base_uri": "https://localhost:8080/"
        },
        "id": "hEIgEMKvzSbF",
        "outputId": "e8543402-f30a-4450-845d-08d43a9aeb64"
      },
      "execution_count": null,
      "outputs": [
        {
          "output_type": "stream",
          "name": "stdout",
          "text": [
            "linhas:67\n",
            "colunas:11\n"
          ]
        }
      ]
    },
    {
      "cell_type": "code",
      "source": [
        "dadosatv = pd.read_excel('/content/drive/MyDrive/INVENTÁRIO .xlsx', sheet_name='MANTIDA 02' , usecols=[0,2,3,5,7,10])\n",
        "dadosatv.head() #lendo os dados da base"
      ],
      "metadata": {
        "colab": {
          "base_uri": "https://localhost:8080/",
          "height": 215
        },
        "id": "kqI9C_ur_eMk",
        "outputId": "ff84f10a-1253-4c5d-fcb0-00c33b261c14"
      },
      "execution_count": null,
      "outputs": [
        {
          "output_type": "execute_result",
          "data": {
            "text/plain": [
              "     CAMPUS                  SETOR           TIPO     SITUAÇÃO    MÉMORIA  \\\n",
              "0  CAMPUS I  Áudio e Vídeo          Computador PC  Operacional  DDR-3 4GB   \n",
              "1  CAMPUS I  Áudio e Vídeo          Computador PC  Operacional  DDR-3 4GB   \n",
              "2  CAMPUS I             Biblioteca  Computador PC  Operacional  DDR-3 2GB   \n",
              "3  CAMPUS I             Biblioteca  Computador PC  Operacional  DDR-3 4GB   \n",
              "4  CAMPUS I             Biblioteca  Computador PC  Operacional  DDR-3 4GB   \n",
              "\n",
              "  CENTRO DE CUSTO  \n",
              "0    IESPES - 002  \n",
              "1    IESPES - 002  \n",
              "2    IESPES - 002  \n",
              "3    IESPES - 002  \n",
              "4    IESPES - 002  "
            ],
            "text/html": [
              "\n",
              "  <div id=\"df-b3827715-74ea-4b9d-b0f5-8911a0fa2b3c\">\n",
              "    <div class=\"colab-df-container\">\n",
              "      <div>\n",
              "<style scoped>\n",
              "    .dataframe tbody tr th:only-of-type {\n",
              "        vertical-align: middle;\n",
              "    }\n",
              "\n",
              "    .dataframe tbody tr th {\n",
              "        vertical-align: top;\n",
              "    }\n",
              "\n",
              "    .dataframe thead th {\n",
              "        text-align: right;\n",
              "    }\n",
              "</style>\n",
              "<table border=\"1\" class=\"dataframe\">\n",
              "  <thead>\n",
              "    <tr style=\"text-align: right;\">\n",
              "      <th></th>\n",
              "      <th>CAMPUS</th>\n",
              "      <th>SETOR</th>\n",
              "      <th>TIPO</th>\n",
              "      <th>SITUAÇÃO</th>\n",
              "      <th>MÉMORIA</th>\n",
              "      <th>CENTRO DE CUSTO</th>\n",
              "    </tr>\n",
              "  </thead>\n",
              "  <tbody>\n",
              "    <tr>\n",
              "      <th>0</th>\n",
              "      <td>CAMPUS I</td>\n",
              "      <td>Áudio e Vídeo</td>\n",
              "      <td>Computador PC</td>\n",
              "      <td>Operacional</td>\n",
              "      <td>DDR-3 4GB</td>\n",
              "      <td>IESPES - 002</td>\n",
              "    </tr>\n",
              "    <tr>\n",
              "      <th>1</th>\n",
              "      <td>CAMPUS I</td>\n",
              "      <td>Áudio e Vídeo</td>\n",
              "      <td>Computador PC</td>\n",
              "      <td>Operacional</td>\n",
              "      <td>DDR-3 4GB</td>\n",
              "      <td>IESPES - 002</td>\n",
              "    </tr>\n",
              "    <tr>\n",
              "      <th>2</th>\n",
              "      <td>CAMPUS I</td>\n",
              "      <td>Biblioteca</td>\n",
              "      <td>Computador PC</td>\n",
              "      <td>Operacional</td>\n",
              "      <td>DDR-3 2GB</td>\n",
              "      <td>IESPES - 002</td>\n",
              "    </tr>\n",
              "    <tr>\n",
              "      <th>3</th>\n",
              "      <td>CAMPUS I</td>\n",
              "      <td>Biblioteca</td>\n",
              "      <td>Computador PC</td>\n",
              "      <td>Operacional</td>\n",
              "      <td>DDR-3 4GB</td>\n",
              "      <td>IESPES - 002</td>\n",
              "    </tr>\n",
              "    <tr>\n",
              "      <th>4</th>\n",
              "      <td>CAMPUS I</td>\n",
              "      <td>Biblioteca</td>\n",
              "      <td>Computador PC</td>\n",
              "      <td>Operacional</td>\n",
              "      <td>DDR-3 4GB</td>\n",
              "      <td>IESPES - 002</td>\n",
              "    </tr>\n",
              "  </tbody>\n",
              "</table>\n",
              "</div>\n",
              "      <button class=\"colab-df-convert\" onclick=\"convertToInteractive('df-b3827715-74ea-4b9d-b0f5-8911a0fa2b3c')\"\n",
              "              title=\"Convert this dataframe to an interactive table.\"\n",
              "              style=\"display:none;\">\n",
              "        \n",
              "  <svg xmlns=\"http://www.w3.org/2000/svg\" height=\"24px\"viewBox=\"0 0 24 24\"\n",
              "       width=\"24px\">\n",
              "    <path d=\"M0 0h24v24H0V0z\" fill=\"none\"/>\n",
              "    <path d=\"M18.56 5.44l.94 2.06.94-2.06 2.06-.94-2.06-.94-.94-2.06-.94 2.06-2.06.94zm-11 1L8.5 8.5l.94-2.06 2.06-.94-2.06-.94L8.5 2.5l-.94 2.06-2.06.94zm10 10l.94 2.06.94-2.06 2.06-.94-2.06-.94-.94-2.06-.94 2.06-2.06.94z\"/><path d=\"M17.41 7.96l-1.37-1.37c-.4-.4-.92-.59-1.43-.59-.52 0-1.04.2-1.43.59L10.3 9.45l-7.72 7.72c-.78.78-.78 2.05 0 2.83L4 21.41c.39.39.9.59 1.41.59.51 0 1.02-.2 1.41-.59l7.78-7.78 2.81-2.81c.8-.78.8-2.07 0-2.86zM5.41 20L4 18.59l7.72-7.72 1.47 1.35L5.41 20z\"/>\n",
              "  </svg>\n",
              "      </button>\n",
              "      \n",
              "  <style>\n",
              "    .colab-df-container {\n",
              "      display:flex;\n",
              "      flex-wrap:wrap;\n",
              "      gap: 12px;\n",
              "    }\n",
              "\n",
              "    .colab-df-convert {\n",
              "      background-color: #E8F0FE;\n",
              "      border: none;\n",
              "      border-radius: 50%;\n",
              "      cursor: pointer;\n",
              "      display: none;\n",
              "      fill: #1967D2;\n",
              "      height: 32px;\n",
              "      padding: 0 0 0 0;\n",
              "      width: 32px;\n",
              "    }\n",
              "\n",
              "    .colab-df-convert:hover {\n",
              "      background-color: #E2EBFA;\n",
              "      box-shadow: 0px 1px 2px rgba(60, 64, 67, 0.3), 0px 1px 3px 1px rgba(60, 64, 67, 0.15);\n",
              "      fill: #174EA6;\n",
              "    }\n",
              "\n",
              "    [theme=dark] .colab-df-convert {\n",
              "      background-color: #3B4455;\n",
              "      fill: #D2E3FC;\n",
              "    }\n",
              "\n",
              "    [theme=dark] .colab-df-convert:hover {\n",
              "      background-color: #434B5C;\n",
              "      box-shadow: 0px 1px 3px 1px rgba(0, 0, 0, 0.15);\n",
              "      filter: drop-shadow(0px 1px 2px rgba(0, 0, 0, 0.3));\n",
              "      fill: #FFFFFF;\n",
              "    }\n",
              "  </style>\n",
              "\n",
              "      <script>\n",
              "        const buttonEl =\n",
              "          document.querySelector('#df-b3827715-74ea-4b9d-b0f5-8911a0fa2b3c button.colab-df-convert');\n",
              "        buttonEl.style.display =\n",
              "          google.colab.kernel.accessAllowed ? 'block' : 'none';\n",
              "\n",
              "        async function convertToInteractive(key) {\n",
              "          const element = document.querySelector('#df-b3827715-74ea-4b9d-b0f5-8911a0fa2b3c');\n",
              "          const dataTable =\n",
              "            await google.colab.kernel.invokeFunction('convertToInteractive',\n",
              "                                                     [key], {});\n",
              "          if (!dataTable) return;\n",
              "\n",
              "          const docLinkHtml = 'Like what you see? Visit the ' +\n",
              "            '<a target=\"_blank\" href=https://colab.research.google.com/notebooks/data_table.ipynb>data table notebook</a>'\n",
              "            + ' to learn more about interactive tables.';\n",
              "          element.innerHTML = '';\n",
              "          dataTable['output_type'] = 'display_data';\n",
              "          await google.colab.output.renderOutput(dataTable, element);\n",
              "          const docLink = document.createElement('div');\n",
              "          docLink.innerHTML = docLinkHtml;\n",
              "          element.appendChild(docLink);\n",
              "        }\n",
              "      </script>\n",
              "    </div>\n",
              "  </div>\n",
              "  "
            ]
          },
          "metadata": {},
          "execution_count": 6
        }
      ]
    },
    {
      "cell_type": "code",
      "source": [
        "dadosatv['SETOR'].unique() #Verifcando todos os setores existentes na página especificada"
      ],
      "metadata": {
        "colab": {
          "base_uri": "https://localhost:8080/"
        },
        "id": "XkWwTdRp_p-f",
        "outputId": "578cd748-06f1-4c1d-be21-490cab60ea66"
      },
      "execution_count": null,
      "outputs": [
        {
          "output_type": "execute_result",
          "data": {
            "text/plain": [
              "array(['Áudio e Vídeo        ', 'Biblioteca', 'Central de Atendimento\\t',\n",
              "       'Cobrança\\t', 'Comercial\\t', 'Contabilidade',\n",
              "       'Coordenação Geral\\t', 'Coordenação de Pedagogia\\t',\n",
              "       'Coordenação de Pós-Graduação\\t',\n",
              "       'Coordenação Geral - Radiologia\\t', 'Fies\\t', 'Financeiro\\t',\n",
              "       'Pós Graduação\\t', 'R.H\\t', 'Sala dos Professores\\t',\n",
              "       'Secretaria Acadêmica ', 'SESMT', 'Biotério', 'SPA Campus II\\t',\n",
              "       'Coordenação de Fisioterapia\\t',\n",
              "       'Recepção Clinica Escola de Fisioterapia\\t', 'Recepção      ',\n",
              "       'Responsável Técnica Clinica Escola Fisioterapia\\t',\n",
              "       'Coordenação de Odontologia\\t'], dtype=object)"
            ]
          },
          "metadata": {},
          "execution_count": 279
        }
      ]
    },
    {
      "cell_type": "code",
      "source": [
        "dadosatv['SETOR'] = dadosatv['SETOR'].str.replace(\"\\t\", \"\") #removendo a formatação"
      ],
      "metadata": {
        "id": "VJ_DnLVsAb7y"
      },
      "execution_count": null,
      "outputs": []
    },
    {
      "cell_type": "code",
      "source": [
        "dadosatv['SETOR'].unique()"
      ],
      "metadata": {
        "colab": {
          "base_uri": "https://localhost:8080/"
        },
        "id": "AblntJe8AgXM",
        "outputId": "2518bfa4-c39d-45a1-ab86-ed3defeb866e"
      },
      "execution_count": null,
      "outputs": [
        {
          "output_type": "execute_result",
          "data": {
            "text/plain": [
              "array(['Áudio e Vídeo        ', 'Biblioteca', 'Central de Atendimento',\n",
              "       'Cobrança', 'Comercial', 'Contabilidade', 'Coordenação Geral',\n",
              "       'Coordenação de Pedagogia', 'Coordenação de Pós-Graduação',\n",
              "       'Coordenação Geral - Radiologia', 'Fies', 'Financeiro',\n",
              "       'Pós Graduação', 'R.H', 'Sala dos Professores',\n",
              "       'Secretaria Acadêmica ', 'SESMT', 'Biotério', 'SPA Campus II',\n",
              "       'Coordenação de Fisioterapia',\n",
              "       'Recepção Clinica Escola de Fisioterapia', 'Recepção      ',\n",
              "       'Responsável Técnica Clinica Escola Fisioterapia',\n",
              "       'Coordenação de Odontologia'], dtype=object)"
            ]
          },
          "metadata": {},
          "execution_count": 281
        }
      ]
    },
    {
      "cell_type": "code",
      "source": [
        "dadosatv.sort_values(by='CAMPUS') #ordenando os dados em ordem alfabetica a partir da coluna CAMPUS"
      ],
      "metadata": {
        "colab": {
          "base_uri": "https://localhost:8080/",
          "height": 655
        },
        "id": "qW_ZmAUiB4s1",
        "outputId": "a80e9ff5-c05a-497e-9e53-ad7baf9f4fa0"
      },
      "execution_count": null,
      "outputs": [
        {
          "output_type": "execute_result",
          "data": {
            "text/plain": [
              "        CAMPUS                                              SETOR  \\\n",
              "0     CAMPUS I                              Áudio e Vídeo           \n",
              "32    CAMPUS I                                Coordenação Geral\\t   \n",
              "34    CAMPUS I                     Coordenação de Pós-Graduação\\t   \n",
              "35    CAMPUS I                   Coordenação Geral - Radiologia\\t   \n",
              "36    CAMPUS I                                             Fies\\t   \n",
              "..         ...                                                ...   \n",
              "65  CAMPUS III  Responsável Técnica Clinica Escola Fisioterapia\\t   \n",
              "62  CAMPUS III                      Coordenação de Fisioterapia\\t   \n",
              "63  CAMPUS III          Recepção Clinica Escola de Fisioterapia\\t   \n",
              "64  CAMPUS III                                     Recepção         \n",
              "66  CAMPUS III                       Coordenação de Odontologia\\t   \n",
              "\n",
              "             TIPO     SITUAÇÃO    MÉMORIA CENTRO DE CUSTO  \n",
              "0   Computador PC  Operacional  DDR-3 4GB    IESPES - 002  \n",
              "32  Computador PC  Operacional  DDR-3 4GB    IESPES - 002  \n",
              "34  Computador PC  Operacional  DDR-3 4GB    IESPES - 002  \n",
              "35       Notebook  Operacional  DDR-3 4GB    IESPES - 002  \n",
              "36  Computador PC  Operacional  DDR-3 4GB    IESPES - 002  \n",
              "..            ...          ...        ...             ...  \n",
              "65       Notebook  Operacional  DDR-4 4GB    IESPES - 002  \n",
              "62     Notebook\\t  Operacional  DDR-4 4GB    IESPES - 002  \n",
              "63     Notebook\\t  Operacional  DDR-4 4GB    IESPES - 002  \n",
              "64     Notebook\\t  Operacional  DDR-4 4GB    IESPES - 002  \n",
              "66     Notebook\\t  Operacional  DDR-4 4GB    IESPES - 002  \n",
              "\n",
              "[67 rows x 6 columns]"
            ],
            "text/html": [
              "\n",
              "  <div id=\"df-fc296c8c-fde0-48b5-8317-e9d15b4c1708\">\n",
              "    <div class=\"colab-df-container\">\n",
              "      <div>\n",
              "<style scoped>\n",
              "    .dataframe tbody tr th:only-of-type {\n",
              "        vertical-align: middle;\n",
              "    }\n",
              "\n",
              "    .dataframe tbody tr th {\n",
              "        vertical-align: top;\n",
              "    }\n",
              "\n",
              "    .dataframe thead th {\n",
              "        text-align: right;\n",
              "    }\n",
              "</style>\n",
              "<table border=\"1\" class=\"dataframe\">\n",
              "  <thead>\n",
              "    <tr style=\"text-align: right;\">\n",
              "      <th></th>\n",
              "      <th>CAMPUS</th>\n",
              "      <th>SETOR</th>\n",
              "      <th>TIPO</th>\n",
              "      <th>SITUAÇÃO</th>\n",
              "      <th>MÉMORIA</th>\n",
              "      <th>CENTRO DE CUSTO</th>\n",
              "    </tr>\n",
              "  </thead>\n",
              "  <tbody>\n",
              "    <tr>\n",
              "      <th>0</th>\n",
              "      <td>CAMPUS I</td>\n",
              "      <td>Áudio e Vídeo</td>\n",
              "      <td>Computador PC</td>\n",
              "      <td>Operacional</td>\n",
              "      <td>DDR-3 4GB</td>\n",
              "      <td>IESPES - 002</td>\n",
              "    </tr>\n",
              "    <tr>\n",
              "      <th>32</th>\n",
              "      <td>CAMPUS I</td>\n",
              "      <td>Coordenação Geral\\t</td>\n",
              "      <td>Computador PC</td>\n",
              "      <td>Operacional</td>\n",
              "      <td>DDR-3 4GB</td>\n",
              "      <td>IESPES - 002</td>\n",
              "    </tr>\n",
              "    <tr>\n",
              "      <th>34</th>\n",
              "      <td>CAMPUS I</td>\n",
              "      <td>Coordenação de Pós-Graduação\\t</td>\n",
              "      <td>Computador PC</td>\n",
              "      <td>Operacional</td>\n",
              "      <td>DDR-3 4GB</td>\n",
              "      <td>IESPES - 002</td>\n",
              "    </tr>\n",
              "    <tr>\n",
              "      <th>35</th>\n",
              "      <td>CAMPUS I</td>\n",
              "      <td>Coordenação Geral - Radiologia\\t</td>\n",
              "      <td>Notebook</td>\n",
              "      <td>Operacional</td>\n",
              "      <td>DDR-3 4GB</td>\n",
              "      <td>IESPES - 002</td>\n",
              "    </tr>\n",
              "    <tr>\n",
              "      <th>36</th>\n",
              "      <td>CAMPUS I</td>\n",
              "      <td>Fies\\t</td>\n",
              "      <td>Computador PC</td>\n",
              "      <td>Operacional</td>\n",
              "      <td>DDR-3 4GB</td>\n",
              "      <td>IESPES - 002</td>\n",
              "    </tr>\n",
              "    <tr>\n",
              "      <th>...</th>\n",
              "      <td>...</td>\n",
              "      <td>...</td>\n",
              "      <td>...</td>\n",
              "      <td>...</td>\n",
              "      <td>...</td>\n",
              "      <td>...</td>\n",
              "    </tr>\n",
              "    <tr>\n",
              "      <th>65</th>\n",
              "      <td>CAMPUS III</td>\n",
              "      <td>Responsável Técnica Clinica Escola Fisioterapia\\t</td>\n",
              "      <td>Notebook</td>\n",
              "      <td>Operacional</td>\n",
              "      <td>DDR-4 4GB</td>\n",
              "      <td>IESPES - 002</td>\n",
              "    </tr>\n",
              "    <tr>\n",
              "      <th>62</th>\n",
              "      <td>CAMPUS III</td>\n",
              "      <td>Coordenação de Fisioterapia\\t</td>\n",
              "      <td>Notebook\\t</td>\n",
              "      <td>Operacional</td>\n",
              "      <td>DDR-4 4GB</td>\n",
              "      <td>IESPES - 002</td>\n",
              "    </tr>\n",
              "    <tr>\n",
              "      <th>63</th>\n",
              "      <td>CAMPUS III</td>\n",
              "      <td>Recepção Clinica Escola de Fisioterapia\\t</td>\n",
              "      <td>Notebook\\t</td>\n",
              "      <td>Operacional</td>\n",
              "      <td>DDR-4 4GB</td>\n",
              "      <td>IESPES - 002</td>\n",
              "    </tr>\n",
              "    <tr>\n",
              "      <th>64</th>\n",
              "      <td>CAMPUS III</td>\n",
              "      <td>Recepção</td>\n",
              "      <td>Notebook\\t</td>\n",
              "      <td>Operacional</td>\n",
              "      <td>DDR-4 4GB</td>\n",
              "      <td>IESPES - 002</td>\n",
              "    </tr>\n",
              "    <tr>\n",
              "      <th>66</th>\n",
              "      <td>CAMPUS III</td>\n",
              "      <td>Coordenação de Odontologia\\t</td>\n",
              "      <td>Notebook\\t</td>\n",
              "      <td>Operacional</td>\n",
              "      <td>DDR-4 4GB</td>\n",
              "      <td>IESPES - 002</td>\n",
              "    </tr>\n",
              "  </tbody>\n",
              "</table>\n",
              "<p>67 rows × 6 columns</p>\n",
              "</div>\n",
              "      <button class=\"colab-df-convert\" onclick=\"convertToInteractive('df-fc296c8c-fde0-48b5-8317-e9d15b4c1708')\"\n",
              "              title=\"Convert this dataframe to an interactive table.\"\n",
              "              style=\"display:none;\">\n",
              "        \n",
              "  <svg xmlns=\"http://www.w3.org/2000/svg\" height=\"24px\"viewBox=\"0 0 24 24\"\n",
              "       width=\"24px\">\n",
              "    <path d=\"M0 0h24v24H0V0z\" fill=\"none\"/>\n",
              "    <path d=\"M18.56 5.44l.94 2.06.94-2.06 2.06-.94-2.06-.94-.94-2.06-.94 2.06-2.06.94zm-11 1L8.5 8.5l.94-2.06 2.06-.94-2.06-.94L8.5 2.5l-.94 2.06-2.06.94zm10 10l.94 2.06.94-2.06 2.06-.94-2.06-.94-.94-2.06-.94 2.06-2.06.94z\"/><path d=\"M17.41 7.96l-1.37-1.37c-.4-.4-.92-.59-1.43-.59-.52 0-1.04.2-1.43.59L10.3 9.45l-7.72 7.72c-.78.78-.78 2.05 0 2.83L4 21.41c.39.39.9.59 1.41.59.51 0 1.02-.2 1.41-.59l7.78-7.78 2.81-2.81c.8-.78.8-2.07 0-2.86zM5.41 20L4 18.59l7.72-7.72 1.47 1.35L5.41 20z\"/>\n",
              "  </svg>\n",
              "      </button>\n",
              "      \n",
              "  <style>\n",
              "    .colab-df-container {\n",
              "      display:flex;\n",
              "      flex-wrap:wrap;\n",
              "      gap: 12px;\n",
              "    }\n",
              "\n",
              "    .colab-df-convert {\n",
              "      background-color: #E8F0FE;\n",
              "      border: none;\n",
              "      border-radius: 50%;\n",
              "      cursor: pointer;\n",
              "      display: none;\n",
              "      fill: #1967D2;\n",
              "      height: 32px;\n",
              "      padding: 0 0 0 0;\n",
              "      width: 32px;\n",
              "    }\n",
              "\n",
              "    .colab-df-convert:hover {\n",
              "      background-color: #E2EBFA;\n",
              "      box-shadow: 0px 1px 2px rgba(60, 64, 67, 0.3), 0px 1px 3px 1px rgba(60, 64, 67, 0.15);\n",
              "      fill: #174EA6;\n",
              "    }\n",
              "\n",
              "    [theme=dark] .colab-df-convert {\n",
              "      background-color: #3B4455;\n",
              "      fill: #D2E3FC;\n",
              "    }\n",
              "\n",
              "    [theme=dark] .colab-df-convert:hover {\n",
              "      background-color: #434B5C;\n",
              "      box-shadow: 0px 1px 3px 1px rgba(0, 0, 0, 0.15);\n",
              "      filter: drop-shadow(0px 1px 2px rgba(0, 0, 0, 0.3));\n",
              "      fill: #FFFFFF;\n",
              "    }\n",
              "  </style>\n",
              "\n",
              "      <script>\n",
              "        const buttonEl =\n",
              "          document.querySelector('#df-fc296c8c-fde0-48b5-8317-e9d15b4c1708 button.colab-df-convert');\n",
              "        buttonEl.style.display =\n",
              "          google.colab.kernel.accessAllowed ? 'block' : 'none';\n",
              "\n",
              "        async function convertToInteractive(key) {\n",
              "          const element = document.querySelector('#df-fc296c8c-fde0-48b5-8317-e9d15b4c1708');\n",
              "          const dataTable =\n",
              "            await google.colab.kernel.invokeFunction('convertToInteractive',\n",
              "                                                     [key], {});\n",
              "          if (!dataTable) return;\n",
              "\n",
              "          const docLinkHtml = 'Like what you see? Visit the ' +\n",
              "            '<a target=\"_blank\" href=https://colab.research.google.com/notebooks/data_table.ipynb>data table notebook</a>'\n",
              "            + ' to learn more about interactive tables.';\n",
              "          element.innerHTML = '';\n",
              "          dataTable['output_type'] = 'display_data';\n",
              "          await google.colab.output.renderOutput(dataTable, element);\n",
              "          const docLink = document.createElement('div');\n",
              "          docLink.innerHTML = docLinkHtml;\n",
              "          element.appendChild(docLink);\n",
              "        }\n",
              "      </script>\n",
              "    </div>\n",
              "  </div>\n",
              "  "
            ]
          },
          "metadata": {},
          "execution_count": 21
        }
      ]
    },
    {
      "cell_type": "code",
      "source": [
        "dadosatv.groupby(['SETOR', 'TIPO']).size().reset_index(name='Quantidade') #Aqui eu estou agrupando (groupby) as linhas da coluna setor de acordo com a coluna tipo e usando \"size\" p/contar cada grupo. e no final, adicionando uma coluna de saída chamada \"quantidade\""
      ],
      "metadata": {
        "colab": {
          "base_uri": "https://localhost:8080/",
          "height": 896
        },
        "id": "9DnAp8d9R7N3",
        "outputId": "62cec3db-9019-4b06-b542-4ff42faa2de3"
      },
      "execution_count": null,
      "outputs": [
        {
          "output_type": "execute_result",
          "data": {
            "text/plain": [
              "                                                SETOR           TIPO  \\\n",
              "0                                          Biblioteca  Computador PC   \n",
              "1                                            Biotério  Computador PC   \n",
              "2                            Central de Atendimento\\t  Computador PC   \n",
              "3                                          Cobrança\\t  Computador PC   \n",
              "4                                         Comercial\\t  Computador PC   \n",
              "5                                         Comercial\\t     Notebook\\t   \n",
              "6                                       Contabilidade  Computador PC   \n",
              "7                                 Coordenação Geral\\t   All In One\\t   \n",
              "8                                 Coordenação Geral\\t  Computador PC   \n",
              "9                                 Coordenação Geral\\t       Notebook   \n",
              "10                   Coordenação Geral - Radiologia\\t       Notebook   \n",
              "11                      Coordenação de Fisioterapia\\t     Notebook\\t   \n",
              "12                       Coordenação de Odontologia\\t     Notebook\\t   \n",
              "13                         Coordenação de Pedagogia\\t       Notebook   \n",
              "14                     Coordenação de Pós-Graduação\\t  Computador PC   \n",
              "15                                             Fies\\t  Computador PC   \n",
              "16                                       Financeiro\\t  Computador PC   \n",
              "17                                    Pós Graduação\\t  Computador PC   \n",
              "18                                              R.H\\t  Computador PC   \n",
              "19                                     Recepção           Notebook\\t   \n",
              "20          Recepção Clinica Escola de Fisioterapia\\t     Notebook\\t   \n",
              "21  Responsável Técnica Clinica Escola Fisioterapia\\t       Notebook   \n",
              "22                                              SESMT  Computador PC   \n",
              "23                                    SPA Campus II\\t  Computador PC   \n",
              "24                             Sala dos Professores\\t   All In One\\t   \n",
              "25                              Secretaria Acadêmica   Computador PC   \n",
              "26                              Áudio e Vídeo          Computador PC   \n",
              "\n",
              "    Quantidade  \n",
              "0            9  \n",
              "1            1  \n",
              "2            6  \n",
              "3            2  \n",
              "4            2  \n",
              "5            1  \n",
              "6            5  \n",
              "7            1  \n",
              "8            3  \n",
              "9            2  \n",
              "10           1  \n",
              "11           1  \n",
              "12           1  \n",
              "13           1  \n",
              "14           1  \n",
              "15           2  \n",
              "16           4  \n",
              "17           1  \n",
              "18           4  \n",
              "19           1  \n",
              "20           1  \n",
              "21           1  \n",
              "22           2  \n",
              "23           1  \n",
              "24           5  \n",
              "25           6  \n",
              "26           2  "
            ],
            "text/html": [
              "\n",
              "  <div id=\"df-e09f8941-37bf-4cb5-a629-bbf6edb3fdb4\">\n",
              "    <div class=\"colab-df-container\">\n",
              "      <div>\n",
              "<style scoped>\n",
              "    .dataframe tbody tr th:only-of-type {\n",
              "        vertical-align: middle;\n",
              "    }\n",
              "\n",
              "    .dataframe tbody tr th {\n",
              "        vertical-align: top;\n",
              "    }\n",
              "\n",
              "    .dataframe thead th {\n",
              "        text-align: right;\n",
              "    }\n",
              "</style>\n",
              "<table border=\"1\" class=\"dataframe\">\n",
              "  <thead>\n",
              "    <tr style=\"text-align: right;\">\n",
              "      <th></th>\n",
              "      <th>SETOR</th>\n",
              "      <th>TIPO</th>\n",
              "      <th>Quantidade</th>\n",
              "    </tr>\n",
              "  </thead>\n",
              "  <tbody>\n",
              "    <tr>\n",
              "      <th>0</th>\n",
              "      <td>Biblioteca</td>\n",
              "      <td>Computador PC</td>\n",
              "      <td>9</td>\n",
              "    </tr>\n",
              "    <tr>\n",
              "      <th>1</th>\n",
              "      <td>Biotério</td>\n",
              "      <td>Computador PC</td>\n",
              "      <td>1</td>\n",
              "    </tr>\n",
              "    <tr>\n",
              "      <th>2</th>\n",
              "      <td>Central de Atendimento\\t</td>\n",
              "      <td>Computador PC</td>\n",
              "      <td>6</td>\n",
              "    </tr>\n",
              "    <tr>\n",
              "      <th>3</th>\n",
              "      <td>Cobrança\\t</td>\n",
              "      <td>Computador PC</td>\n",
              "      <td>2</td>\n",
              "    </tr>\n",
              "    <tr>\n",
              "      <th>4</th>\n",
              "      <td>Comercial\\t</td>\n",
              "      <td>Computador PC</td>\n",
              "      <td>2</td>\n",
              "    </tr>\n",
              "    <tr>\n",
              "      <th>5</th>\n",
              "      <td>Comercial\\t</td>\n",
              "      <td>Notebook\\t</td>\n",
              "      <td>1</td>\n",
              "    </tr>\n",
              "    <tr>\n",
              "      <th>6</th>\n",
              "      <td>Contabilidade</td>\n",
              "      <td>Computador PC</td>\n",
              "      <td>5</td>\n",
              "    </tr>\n",
              "    <tr>\n",
              "      <th>7</th>\n",
              "      <td>Coordenação Geral\\t</td>\n",
              "      <td>All In One\\t</td>\n",
              "      <td>1</td>\n",
              "    </tr>\n",
              "    <tr>\n",
              "      <th>8</th>\n",
              "      <td>Coordenação Geral\\t</td>\n",
              "      <td>Computador PC</td>\n",
              "      <td>3</td>\n",
              "    </tr>\n",
              "    <tr>\n",
              "      <th>9</th>\n",
              "      <td>Coordenação Geral\\t</td>\n",
              "      <td>Notebook</td>\n",
              "      <td>2</td>\n",
              "    </tr>\n",
              "    <tr>\n",
              "      <th>10</th>\n",
              "      <td>Coordenação Geral - Radiologia\\t</td>\n",
              "      <td>Notebook</td>\n",
              "      <td>1</td>\n",
              "    </tr>\n",
              "    <tr>\n",
              "      <th>11</th>\n",
              "      <td>Coordenação de Fisioterapia\\t</td>\n",
              "      <td>Notebook\\t</td>\n",
              "      <td>1</td>\n",
              "    </tr>\n",
              "    <tr>\n",
              "      <th>12</th>\n",
              "      <td>Coordenação de Odontologia\\t</td>\n",
              "      <td>Notebook\\t</td>\n",
              "      <td>1</td>\n",
              "    </tr>\n",
              "    <tr>\n",
              "      <th>13</th>\n",
              "      <td>Coordenação de Pedagogia\\t</td>\n",
              "      <td>Notebook</td>\n",
              "      <td>1</td>\n",
              "    </tr>\n",
              "    <tr>\n",
              "      <th>14</th>\n",
              "      <td>Coordenação de Pós-Graduação\\t</td>\n",
              "      <td>Computador PC</td>\n",
              "      <td>1</td>\n",
              "    </tr>\n",
              "    <tr>\n",
              "      <th>15</th>\n",
              "      <td>Fies\\t</td>\n",
              "      <td>Computador PC</td>\n",
              "      <td>2</td>\n",
              "    </tr>\n",
              "    <tr>\n",
              "      <th>16</th>\n",
              "      <td>Financeiro\\t</td>\n",
              "      <td>Computador PC</td>\n",
              "      <td>4</td>\n",
              "    </tr>\n",
              "    <tr>\n",
              "      <th>17</th>\n",
              "      <td>Pós Graduação\\t</td>\n",
              "      <td>Computador PC</td>\n",
              "      <td>1</td>\n",
              "    </tr>\n",
              "    <tr>\n",
              "      <th>18</th>\n",
              "      <td>R.H\\t</td>\n",
              "      <td>Computador PC</td>\n",
              "      <td>4</td>\n",
              "    </tr>\n",
              "    <tr>\n",
              "      <th>19</th>\n",
              "      <td>Recepção</td>\n",
              "      <td>Notebook\\t</td>\n",
              "      <td>1</td>\n",
              "    </tr>\n",
              "    <tr>\n",
              "      <th>20</th>\n",
              "      <td>Recepção Clinica Escola de Fisioterapia\\t</td>\n",
              "      <td>Notebook\\t</td>\n",
              "      <td>1</td>\n",
              "    </tr>\n",
              "    <tr>\n",
              "      <th>21</th>\n",
              "      <td>Responsável Técnica Clinica Escola Fisioterapia\\t</td>\n",
              "      <td>Notebook</td>\n",
              "      <td>1</td>\n",
              "    </tr>\n",
              "    <tr>\n",
              "      <th>22</th>\n",
              "      <td>SESMT</td>\n",
              "      <td>Computador PC</td>\n",
              "      <td>2</td>\n",
              "    </tr>\n",
              "    <tr>\n",
              "      <th>23</th>\n",
              "      <td>SPA Campus II\\t</td>\n",
              "      <td>Computador PC</td>\n",
              "      <td>1</td>\n",
              "    </tr>\n",
              "    <tr>\n",
              "      <th>24</th>\n",
              "      <td>Sala dos Professores\\t</td>\n",
              "      <td>All In One\\t</td>\n",
              "      <td>5</td>\n",
              "    </tr>\n",
              "    <tr>\n",
              "      <th>25</th>\n",
              "      <td>Secretaria Acadêmica</td>\n",
              "      <td>Computador PC</td>\n",
              "      <td>6</td>\n",
              "    </tr>\n",
              "    <tr>\n",
              "      <th>26</th>\n",
              "      <td>Áudio e Vídeo</td>\n",
              "      <td>Computador PC</td>\n",
              "      <td>2</td>\n",
              "    </tr>\n",
              "  </tbody>\n",
              "</table>\n",
              "</div>\n",
              "      <button class=\"colab-df-convert\" onclick=\"convertToInteractive('df-e09f8941-37bf-4cb5-a629-bbf6edb3fdb4')\"\n",
              "              title=\"Convert this dataframe to an interactive table.\"\n",
              "              style=\"display:none;\">\n",
              "        \n",
              "  <svg xmlns=\"http://www.w3.org/2000/svg\" height=\"24px\"viewBox=\"0 0 24 24\"\n",
              "       width=\"24px\">\n",
              "    <path d=\"M0 0h24v24H0V0z\" fill=\"none\"/>\n",
              "    <path d=\"M18.56 5.44l.94 2.06.94-2.06 2.06-.94-2.06-.94-.94-2.06-.94 2.06-2.06.94zm-11 1L8.5 8.5l.94-2.06 2.06-.94-2.06-.94L8.5 2.5l-.94 2.06-2.06.94zm10 10l.94 2.06.94-2.06 2.06-.94-2.06-.94-.94-2.06-.94 2.06-2.06.94z\"/><path d=\"M17.41 7.96l-1.37-1.37c-.4-.4-.92-.59-1.43-.59-.52 0-1.04.2-1.43.59L10.3 9.45l-7.72 7.72c-.78.78-.78 2.05 0 2.83L4 21.41c.39.39.9.59 1.41.59.51 0 1.02-.2 1.41-.59l7.78-7.78 2.81-2.81c.8-.78.8-2.07 0-2.86zM5.41 20L4 18.59l7.72-7.72 1.47 1.35L5.41 20z\"/>\n",
              "  </svg>\n",
              "      </button>\n",
              "      \n",
              "  <style>\n",
              "    .colab-df-container {\n",
              "      display:flex;\n",
              "      flex-wrap:wrap;\n",
              "      gap: 12px;\n",
              "    }\n",
              "\n",
              "    .colab-df-convert {\n",
              "      background-color: #E8F0FE;\n",
              "      border: none;\n",
              "      border-radius: 50%;\n",
              "      cursor: pointer;\n",
              "      display: none;\n",
              "      fill: #1967D2;\n",
              "      height: 32px;\n",
              "      padding: 0 0 0 0;\n",
              "      width: 32px;\n",
              "    }\n",
              "\n",
              "    .colab-df-convert:hover {\n",
              "      background-color: #E2EBFA;\n",
              "      box-shadow: 0px 1px 2px rgba(60, 64, 67, 0.3), 0px 1px 3px 1px rgba(60, 64, 67, 0.15);\n",
              "      fill: #174EA6;\n",
              "    }\n",
              "\n",
              "    [theme=dark] .colab-df-convert {\n",
              "      background-color: #3B4455;\n",
              "      fill: #D2E3FC;\n",
              "    }\n",
              "\n",
              "    [theme=dark] .colab-df-convert:hover {\n",
              "      background-color: #434B5C;\n",
              "      box-shadow: 0px 1px 3px 1px rgba(0, 0, 0, 0.15);\n",
              "      filter: drop-shadow(0px 1px 2px rgba(0, 0, 0, 0.3));\n",
              "      fill: #FFFFFF;\n",
              "    }\n",
              "  </style>\n",
              "\n",
              "      <script>\n",
              "        const buttonEl =\n",
              "          document.querySelector('#df-e09f8941-37bf-4cb5-a629-bbf6edb3fdb4 button.colab-df-convert');\n",
              "        buttonEl.style.display =\n",
              "          google.colab.kernel.accessAllowed ? 'block' : 'none';\n",
              "\n",
              "        async function convertToInteractive(key) {\n",
              "          const element = document.querySelector('#df-e09f8941-37bf-4cb5-a629-bbf6edb3fdb4');\n",
              "          const dataTable =\n",
              "            await google.colab.kernel.invokeFunction('convertToInteractive',\n",
              "                                                     [key], {});\n",
              "          if (!dataTable) return;\n",
              "\n",
              "          const docLinkHtml = 'Like what you see? Visit the ' +\n",
              "            '<a target=\"_blank\" href=https://colab.research.google.com/notebooks/data_table.ipynb>data table notebook</a>'\n",
              "            + ' to learn more about interactive tables.';\n",
              "          element.innerHTML = '';\n",
              "          dataTable['output_type'] = 'display_data';\n",
              "          await google.colab.output.renderOutput(dataTable, element);\n",
              "          const docLink = document.createElement('div');\n",
              "          docLink.innerHTML = docLinkHtml;\n",
              "          element.appendChild(docLink);\n",
              "        }\n",
              "      </script>\n",
              "    </div>\n",
              "  </div>\n",
              "  "
            ]
          },
          "metadata": {},
          "execution_count": 70
        }
      ]
    },
    {
      "cell_type": "code",
      "source": [
        "dadosatv['TIPO'] = dadosatv['TIPO'].str.replace(\"\\t\", \"\") #removendo a formatação"
      ],
      "metadata": {
        "id": "IeP-9FA7SIuU"
      },
      "execution_count": null,
      "outputs": []
    },
    {
      "cell_type": "code",
      "source": [
        "dadosatv.groupby(['SETOR', 'TIPO']).size().reset_index(name='Quantidade') #Aqui eu estou agrupando (groupby) as linhas da coluna setor de acordo com a coluna tipo e usando \"size\" p/contar cada grupo. e no final, adicionando uma coluna de saída chamada \"quantidade\""
      ],
      "metadata": {
        "colab": {
          "base_uri": "https://localhost:8080/",
          "height": 655
        },
        "id": "XBP9fSX6SQWl",
        "outputId": "5c027bfd-90be-4787-8754-9704dc76b7aa"
      },
      "execution_count": null,
      "outputs": [
        {
          "output_type": "execute_result",
          "data": {
            "text/plain": [
              "                                                SETOR           TIPO  \\\n",
              "0                                          Biblioteca  Computador PC   \n",
              "1                                            Biotério  Computador PC   \n",
              "2                            Central de Atendimento\\t  Computador PC   \n",
              "3                                          Cobrança\\t  Computador PC   \n",
              "4                                         Comercial\\t  Computador PC   \n",
              "5                                         Comercial\\t     Notebook\\t   \n",
              "6                                       Contabilidade  Computador PC   \n",
              "7                                 Coordenação Geral\\t   All In One\\t   \n",
              "8                                 Coordenação Geral\\t  Computador PC   \n",
              "9                                 Coordenação Geral\\t       Notebook   \n",
              "10                   Coordenação Geral - Radiologia\\t       Notebook   \n",
              "11                      Coordenação de Fisioterapia\\t     Notebook\\t   \n",
              "12                       Coordenação de Odontologia\\t     Notebook\\t   \n",
              "13                         Coordenação de Pedagogia\\t       Notebook   \n",
              "14                     Coordenação de Pós-Graduação\\t  Computador PC   \n",
              "15                                             Fies\\t  Computador PC   \n",
              "16                                       Financeiro\\t  Computador PC   \n",
              "17                                    Pós Graduação\\t  Computador PC   \n",
              "18                                              R.H\\t  Computador PC   \n",
              "19                                     Recepção           Notebook\\t   \n",
              "20          Recepção Clinica Escola de Fisioterapia\\t     Notebook\\t   \n",
              "21  Responsável Técnica Clinica Escola Fisioterapia\\t       Notebook   \n",
              "22                                              SESMT  Computador PC   \n",
              "23                                    SPA Campus II\\t  Computador PC   \n",
              "24                             Sala dos Professores\\t   All In One\\t   \n",
              "25                              Secretaria Acadêmica   Computador PC   \n",
              "26                              Áudio e Vídeo          Computador PC   \n",
              "\n",
              "    Quantidade  \n",
              "0            9  \n",
              "1            1  \n",
              "2            6  \n",
              "3            2  \n",
              "4            2  \n",
              "5            1  \n",
              "6            5  \n",
              "7            1  \n",
              "8            3  \n",
              "9            2  \n",
              "10           1  \n",
              "11           1  \n",
              "12           1  \n",
              "13           1  \n",
              "14           1  \n",
              "15           2  \n",
              "16           4  \n",
              "17           1  \n",
              "18           4  \n",
              "19           1  \n",
              "20           1  \n",
              "21           1  \n",
              "22           2  \n",
              "23           1  \n",
              "24           5  \n",
              "25           6  \n",
              "26           2  "
            ],
            "text/html": [
              "\n",
              "  <div id=\"df-62dc7fa1-09ef-492f-8038-c3436895f3c2\">\n",
              "    <div class=\"colab-df-container\">\n",
              "      <div>\n",
              "<style scoped>\n",
              "    .dataframe tbody tr th:only-of-type {\n",
              "        vertical-align: middle;\n",
              "    }\n",
              "\n",
              "    .dataframe tbody tr th {\n",
              "        vertical-align: top;\n",
              "    }\n",
              "\n",
              "    .dataframe thead th {\n",
              "        text-align: right;\n",
              "    }\n",
              "</style>\n",
              "<table border=\"1\" class=\"dataframe\">\n",
              "  <thead>\n",
              "    <tr style=\"text-align: right;\">\n",
              "      <th></th>\n",
              "      <th>SETOR</th>\n",
              "      <th>TIPO</th>\n",
              "      <th>Quantidade</th>\n",
              "    </tr>\n",
              "  </thead>\n",
              "  <tbody>\n",
              "    <tr>\n",
              "      <th>0</th>\n",
              "      <td>Biblioteca</td>\n",
              "      <td>Computador PC</td>\n",
              "      <td>9</td>\n",
              "    </tr>\n",
              "    <tr>\n",
              "      <th>1</th>\n",
              "      <td>Biotério</td>\n",
              "      <td>Computador PC</td>\n",
              "      <td>1</td>\n",
              "    </tr>\n",
              "    <tr>\n",
              "      <th>2</th>\n",
              "      <td>Central de Atendimento\\t</td>\n",
              "      <td>Computador PC</td>\n",
              "      <td>6</td>\n",
              "    </tr>\n",
              "    <tr>\n",
              "      <th>3</th>\n",
              "      <td>Cobrança\\t</td>\n",
              "      <td>Computador PC</td>\n",
              "      <td>2</td>\n",
              "    </tr>\n",
              "    <tr>\n",
              "      <th>4</th>\n",
              "      <td>Comercial\\t</td>\n",
              "      <td>Computador PC</td>\n",
              "      <td>2</td>\n",
              "    </tr>\n",
              "    <tr>\n",
              "      <th>5</th>\n",
              "      <td>Comercial\\t</td>\n",
              "      <td>Notebook\\t</td>\n",
              "      <td>1</td>\n",
              "    </tr>\n",
              "    <tr>\n",
              "      <th>6</th>\n",
              "      <td>Contabilidade</td>\n",
              "      <td>Computador PC</td>\n",
              "      <td>5</td>\n",
              "    </tr>\n",
              "    <tr>\n",
              "      <th>7</th>\n",
              "      <td>Coordenação Geral\\t</td>\n",
              "      <td>All In One\\t</td>\n",
              "      <td>1</td>\n",
              "    </tr>\n",
              "    <tr>\n",
              "      <th>8</th>\n",
              "      <td>Coordenação Geral\\t</td>\n",
              "      <td>Computador PC</td>\n",
              "      <td>3</td>\n",
              "    </tr>\n",
              "    <tr>\n",
              "      <th>9</th>\n",
              "      <td>Coordenação Geral\\t</td>\n",
              "      <td>Notebook</td>\n",
              "      <td>2</td>\n",
              "    </tr>\n",
              "    <tr>\n",
              "      <th>10</th>\n",
              "      <td>Coordenação Geral - Radiologia\\t</td>\n",
              "      <td>Notebook</td>\n",
              "      <td>1</td>\n",
              "    </tr>\n",
              "    <tr>\n",
              "      <th>11</th>\n",
              "      <td>Coordenação de Fisioterapia\\t</td>\n",
              "      <td>Notebook\\t</td>\n",
              "      <td>1</td>\n",
              "    </tr>\n",
              "    <tr>\n",
              "      <th>12</th>\n",
              "      <td>Coordenação de Odontologia\\t</td>\n",
              "      <td>Notebook\\t</td>\n",
              "      <td>1</td>\n",
              "    </tr>\n",
              "    <tr>\n",
              "      <th>13</th>\n",
              "      <td>Coordenação de Pedagogia\\t</td>\n",
              "      <td>Notebook</td>\n",
              "      <td>1</td>\n",
              "    </tr>\n",
              "    <tr>\n",
              "      <th>14</th>\n",
              "      <td>Coordenação de Pós-Graduação\\t</td>\n",
              "      <td>Computador PC</td>\n",
              "      <td>1</td>\n",
              "    </tr>\n",
              "    <tr>\n",
              "      <th>15</th>\n",
              "      <td>Fies\\t</td>\n",
              "      <td>Computador PC</td>\n",
              "      <td>2</td>\n",
              "    </tr>\n",
              "    <tr>\n",
              "      <th>16</th>\n",
              "      <td>Financeiro\\t</td>\n",
              "      <td>Computador PC</td>\n",
              "      <td>4</td>\n",
              "    </tr>\n",
              "    <tr>\n",
              "      <th>17</th>\n",
              "      <td>Pós Graduação\\t</td>\n",
              "      <td>Computador PC</td>\n",
              "      <td>1</td>\n",
              "    </tr>\n",
              "    <tr>\n",
              "      <th>18</th>\n",
              "      <td>R.H\\t</td>\n",
              "      <td>Computador PC</td>\n",
              "      <td>4</td>\n",
              "    </tr>\n",
              "    <tr>\n",
              "      <th>19</th>\n",
              "      <td>Recepção</td>\n",
              "      <td>Notebook\\t</td>\n",
              "      <td>1</td>\n",
              "    </tr>\n",
              "    <tr>\n",
              "      <th>20</th>\n",
              "      <td>Recepção Clinica Escola de Fisioterapia\\t</td>\n",
              "      <td>Notebook\\t</td>\n",
              "      <td>1</td>\n",
              "    </tr>\n",
              "    <tr>\n",
              "      <th>21</th>\n",
              "      <td>Responsável Técnica Clinica Escola Fisioterapia\\t</td>\n",
              "      <td>Notebook</td>\n",
              "      <td>1</td>\n",
              "    </tr>\n",
              "    <tr>\n",
              "      <th>22</th>\n",
              "      <td>SESMT</td>\n",
              "      <td>Computador PC</td>\n",
              "      <td>2</td>\n",
              "    </tr>\n",
              "    <tr>\n",
              "      <th>23</th>\n",
              "      <td>SPA Campus II\\t</td>\n",
              "      <td>Computador PC</td>\n",
              "      <td>1</td>\n",
              "    </tr>\n",
              "    <tr>\n",
              "      <th>24</th>\n",
              "      <td>Sala dos Professores\\t</td>\n",
              "      <td>All In One\\t</td>\n",
              "      <td>5</td>\n",
              "    </tr>\n",
              "    <tr>\n",
              "      <th>25</th>\n",
              "      <td>Secretaria Acadêmica</td>\n",
              "      <td>Computador PC</td>\n",
              "      <td>6</td>\n",
              "    </tr>\n",
              "    <tr>\n",
              "      <th>26</th>\n",
              "      <td>Áudio e Vídeo</td>\n",
              "      <td>Computador PC</td>\n",
              "      <td>2</td>\n",
              "    </tr>\n",
              "  </tbody>\n",
              "</table>\n",
              "</div>\n",
              "      <button class=\"colab-df-convert\" onclick=\"convertToInteractive('df-62dc7fa1-09ef-492f-8038-c3436895f3c2')\"\n",
              "              title=\"Convert this dataframe to an interactive table.\"\n",
              "              style=\"display:none;\">\n",
              "        \n",
              "  <svg xmlns=\"http://www.w3.org/2000/svg\" height=\"24px\"viewBox=\"0 0 24 24\"\n",
              "       width=\"24px\">\n",
              "    <path d=\"M0 0h24v24H0V0z\" fill=\"none\"/>\n",
              "    <path d=\"M18.56 5.44l.94 2.06.94-2.06 2.06-.94-2.06-.94-.94-2.06-.94 2.06-2.06.94zm-11 1L8.5 8.5l.94-2.06 2.06-.94-2.06-.94L8.5 2.5l-.94 2.06-2.06.94zm10 10l.94 2.06.94-2.06 2.06-.94-2.06-.94-.94-2.06-.94 2.06-2.06.94z\"/><path d=\"M17.41 7.96l-1.37-1.37c-.4-.4-.92-.59-1.43-.59-.52 0-1.04.2-1.43.59L10.3 9.45l-7.72 7.72c-.78.78-.78 2.05 0 2.83L4 21.41c.39.39.9.59 1.41.59.51 0 1.02-.2 1.41-.59l7.78-7.78 2.81-2.81c.8-.78.8-2.07 0-2.86zM5.41 20L4 18.59l7.72-7.72 1.47 1.35L5.41 20z\"/>\n",
              "  </svg>\n",
              "      </button>\n",
              "      \n",
              "  <style>\n",
              "    .colab-df-container {\n",
              "      display:flex;\n",
              "      flex-wrap:wrap;\n",
              "      gap: 12px;\n",
              "    }\n",
              "\n",
              "    .colab-df-convert {\n",
              "      background-color: #E8F0FE;\n",
              "      border: none;\n",
              "      border-radius: 50%;\n",
              "      cursor: pointer;\n",
              "      display: none;\n",
              "      fill: #1967D2;\n",
              "      height: 32px;\n",
              "      padding: 0 0 0 0;\n",
              "      width: 32px;\n",
              "    }\n",
              "\n",
              "    .colab-df-convert:hover {\n",
              "      background-color: #E2EBFA;\n",
              "      box-shadow: 0px 1px 2px rgba(60, 64, 67, 0.3), 0px 1px 3px 1px rgba(60, 64, 67, 0.15);\n",
              "      fill: #174EA6;\n",
              "    }\n",
              "\n",
              "    [theme=dark] .colab-df-convert {\n",
              "      background-color: #3B4455;\n",
              "      fill: #D2E3FC;\n",
              "    }\n",
              "\n",
              "    [theme=dark] .colab-df-convert:hover {\n",
              "      background-color: #434B5C;\n",
              "      box-shadow: 0px 1px 3px 1px rgba(0, 0, 0, 0.15);\n",
              "      filter: drop-shadow(0px 1px 2px rgba(0, 0, 0, 0.3));\n",
              "      fill: #FFFFFF;\n",
              "    }\n",
              "  </style>\n",
              "\n",
              "      <script>\n",
              "        const buttonEl =\n",
              "          document.querySelector('#df-62dc7fa1-09ef-492f-8038-c3436895f3c2 button.colab-df-convert');\n",
              "        buttonEl.style.display =\n",
              "          google.colab.kernel.accessAllowed ? 'block' : 'none';\n",
              "\n",
              "        async function convertToInteractive(key) {\n",
              "          const element = document.querySelector('#df-62dc7fa1-09ef-492f-8038-c3436895f3c2');\n",
              "          const dataTable =\n",
              "            await google.colab.kernel.invokeFunction('convertToInteractive',\n",
              "                                                     [key], {});\n",
              "          if (!dataTable) return;\n",
              "\n",
              "          const docLinkHtml = 'Like what you see? Visit the ' +\n",
              "            '<a target=\"_blank\" href=https://colab.research.google.com/notebooks/data_table.ipynb>data table notebook</a>'\n",
              "            + ' to learn more about interactive tables.';\n",
              "          element.innerHTML = '';\n",
              "          dataTable['output_type'] = 'display_data';\n",
              "          await google.colab.output.renderOutput(dataTable, element);\n",
              "          const docLink = document.createElement('div');\n",
              "          docLink.innerHTML = docLinkHtml;\n",
              "          element.appendChild(docLink);\n",
              "        }\n",
              "      </script>\n",
              "    </div>\n",
              "  </div>\n",
              "  "
            ]
          },
          "metadata": {},
          "execution_count": 71
        }
      ]
    },
    {
      "cell_type": "code",
      "source": [
        "#Quantidade de ativos em cada setor\n",
        "dadosatv['SETOR'].value_counts()"
      ],
      "metadata": {
        "colab": {
          "base_uri": "https://localhost:8080/"
        },
        "id": "C4JqaNpVZMF3",
        "outputId": "3022d507-78c1-4b9b-b2a7-2fbaec7a97b5"
      },
      "execution_count": null,
      "outputs": [
        {
          "output_type": "execute_result",
          "data": {
            "text/plain": [
              "Biblioteca                                         9\n",
              "Central de Atendimento                             6\n",
              "Coordenação Geral                                  6\n",
              "Secretaria Acadêmica                               6\n",
              "Contabilidade                                      5\n",
              "Sala dos Professores                               5\n",
              "R.H                                                4\n",
              "Financeiro                                         4\n",
              "Comercial                                          3\n",
              "Áudio e Vídeo                                      2\n",
              "Cobrança                                           2\n",
              "SESMT                                              2\n",
              "Fies                                               2\n",
              "Recepção Clinica Escola de Fisioterapia            1\n",
              "SPA Campus II                                      1\n",
              "Recepção                                           1\n",
              "Responsável Técnica Clinica Escola Fisioterapia    1\n",
              "Coordenação de Fisioterapia                        1\n",
              "Pós Graduação                                      1\n",
              "Biotério                                           1\n",
              "Coordenação Geral - Radiologia                     1\n",
              "Coordenação de Pós-Graduação                       1\n",
              "Coordenação de Pedagogia                           1\n",
              "Coordenação de Odontologia                         1\n",
              "Name: SETOR, dtype: int64"
            ]
          },
          "metadata": {},
          "execution_count": 286
        }
      ]
    },
    {
      "cell_type": "code",
      "source": [
        "agrupar = dadosatv.groupby(['CAMPUS', 'TIPO']).size().reset_index(name='Qnt')\n",
        "print (agrupar)"
      ],
      "metadata": {
        "colab": {
          "base_uri": "https://localhost:8080/"
        },
        "id": "zRrq0XILa6Nt",
        "outputId": "d951b169-33f6-4a13-812b-68ae920c75a0"
      },
      "execution_count": null,
      "outputs": [
        {
          "output_type": "stream",
          "name": "stdout",
          "text": [
            "       CAMPUS           TIPO  Qnt\n",
            "0    CAMPUS I   All In One\\t    6\n",
            "1    CAMPUS I  Computador PC   49\n",
            "2    CAMPUS I       Notebook    4\n",
            "3    CAMPUS I     Notebook\\t    1\n",
            "4   CAMPUS II  Computador PC    2\n",
            "5  CAMPUS III       Notebook    1\n",
            "6  CAMPUS III     Notebook\\t    4\n"
          ]
        }
      ]
    },
    {
      "cell_type": "code",
      "source": [
        "# Plotar o gráfico de pizza para cada campus\n",
        "for campus, dados in agrupar.groupby('CAMPUS'): #o for irá percorrer sobre cada grupo de dados agrupados a partir da coluna \"CAMPUS\" na variavel \"agrupar\". A variavel que chamei de \"campus\" armazena o nome de cada campus (I, II e III) e a variavel dados armazena as informações de cada um.\n",
        "    dados.plot.pie(y='Qnt', labels=dados['TIPO'], legend=False, title=f'Quantidade de equipamentos por tipo - Campus {campus}', autopct='%.1f%%') #Aqui estou gerando um gráfico de pizza p/ cada campus, usando a coluna 'Qnt' que defini acima como dados e a coluna 'TIPO' como rótulos das fatias. O argumento \"legend=False\" remove a legenda do gráfico e o argumento \"title\" adiciona um título ao gráfico, incluindo o nome do campus atual.\n",
        "    plt.axis('equal') #Esse comando faz com que os eixos x e y tenham a mesma escala, tornando as fatias do gráfico circular.\n",
        "    plt.show() "
      ],
      "metadata": {
        "colab": {
          "base_uri": "https://localhost:8080/",
          "height": 758
        },
        "id": "O3kl76ONdLUa",
        "outputId": "cac4b6e7-4041-4fc9-87f7-ac524952c6b7"
      },
      "execution_count": null,
      "outputs": [
        {
          "output_type": "display_data",
          "data": {
            "text/plain": [
              "<Figure size 432x288 with 1 Axes>"
            ],
            "image/png": "[encoded data removed]"
          },
          "metadata": {}
        },
        {
          "output_type": "display_data",
          "data": {
            "text/plain": [
              "<Figure size 432x288 with 1 Axes>"
            ],
            "image/png": "[encoded data removed]"
          },
          "metadata": {}
        },
        {
          "output_type": "display_data",
          "data": {
            "text/plain": [
              "<Figure size 432x288 with 1 Axes>"
            ],
            "image/png": "[encoded data removed]"
          },
          "metadata": {}
        }
      ]
    },
    {
      "cell_type": "code",
      "source": [
        "for campus, dados in agrupar.groupby('CAMPUS'):\n",
        "    dados.plot.bar(x='TIPO', y='Qnt', legend=False, title=f'Quantidade de equipamentos por tipo - Campus {campus}')\n",
        "    plt.show()\n"
      ],
      "metadata": {
        "colab": {
          "base_uri": "https://localhost:8080/",
          "height": 1000
        },
        "id": "NPMhXw-siBvk",
        "outputId": "ab08b5b0-b842-4d5c-8a56-1af9408d0d5c"
      },
      "execution_count": null,
      "outputs": [
        {
          "output_type": "display_data",
          "data": {
            "text/plain": [
              "<Figure size 432x288 with 1 Axes>"
            ],
            "image/png": "[encoded data removed]"
          },
          "metadata": {
            "needs_background": "light"
          }
        },
        {
          "output_type": "display_data",
          "data": {
            "text/plain": [
              "<Figure size 432x288 with 1 Axes>"
            ],
            "image/png": "[encoded data removed]"
          },
          "metadata": {
            "needs_background": "light"
          }
        },
        {
          "output_type": "display_data",
          "data": {
            "text/plain": [
              "<Figure size 432x288 with 1 Axes>"
            ],
            "image/png": "[encoded data removed]"
          },
          "metadata": {
            "needs_background": "light"
          }
        }
      ]
    },
    {
      "cell_type": "markdown",
      "source": [
        "#**ANÁLISE DE MEMÓRIAS DA BASE IESPES**"
      ],
      "metadata": {
        "id": "Ntbk6GbntasK"
      }
    },
    {
      "cell_type": "markdown",
      "source": [
        "Identificando quais os CAMPUS que ainda utilizam memória do tipo DDR-2 de 4GB"
      ],
      "metadata": {
        "id": "xLDYHPnJqibU"
      }
    },
    {
      "cell_type": "code",
      "source": [
        "filtro_memoria = dadosatv[dadosatv['MÉMORIA'] == 'DDR-2 4GB'] \n",
        "campus_com_memoria = filtro_memoria['CAMPUS'].value_counts() \n",
        "print (campus_com_memoria) "
      ],
      "metadata": {
        "colab": {
          "base_uri": "https://localhost:8080/"
        },
        "id": "YRkW0tyJqr0O",
        "outputId": "15c62321-8592-44dc-a4bd-97663eac030d"
      },
      "execution_count": null,
      "outputs": [
        {
          "output_type": "stream",
          "name": "stdout",
          "text": [
            "CAMPUS I    2\n",
            "Name: CAMPUS, dtype: int64\n"
          ]
        }
      ]
    },
    {
      "cell_type": "markdown",
      "source": [
        "Agora, verificando os tipos de memória existentes em cada CAMPUS"
      ],
      "metadata": {
        "id": "SFjK-wzOssH6"
      }
    },
    {
      "cell_type": "code",
      "source": [
        "agrupar = dadosatv.groupby(['CAMPUS', 'MÉMORIA']).size().reset_index(name='Qnt') #Lembrar: a) o argumento \"size()\" conta o número de ocorrências de cada combinação de valores nas colunas definidas. b) o \"reset.index\" transforma o resultado em uma nosa base e serve p/ reiniciar a minha base, criando depois uma nova coluna com o novo indice.\n",
        "print (agrupar)"
      ],
      "metadata": {
        "colab": {
          "base_uri": "https://localhost:8080/"
        },
        "id": "DYfAsiMis3ON",
        "outputId": "d4a15849-3c1a-4273-d9de-6c210e0d25ea"
      },
      "execution_count": null,
      "outputs": [
        {
          "output_type": "stream",
          "name": "stdout",
          "text": [
            "        CAMPUS    MÉMORIA  Qnt\n",
            "0     CAMPUS I  DDR-2 2GB    1\n",
            "1     CAMPUS I  DDR-2 4GB    2\n",
            "2     CAMPUS I  DDR-3 2GB    2\n",
            "3     CAMPUS I  DDR-3 4GB   41\n",
            "4     CAMPUS I  DDR-3 6GB    1\n",
            "5     CAMPUS I  DDR-3 8GB    4\n",
            "6     CAMPUS I  DDR-4 4GB    2\n",
            "7     CAMPUS I  DDR-4 8GB    2\n",
            "8     CAMPUS I  DDR2- 2GB    1\n",
            "9    CAMPUS II  DDR-3 4GB    2\n",
            "10  CAMPUS III  DDR-4 4GB    5\n"
          ]
        }
      ]
    }
  ]
}